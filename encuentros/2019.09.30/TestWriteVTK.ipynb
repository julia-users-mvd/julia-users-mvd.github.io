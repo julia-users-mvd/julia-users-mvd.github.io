{
 "cells": [
  {
   "cell_type": "code",
   "execution_count": 3,
   "metadata": {},
   "outputs": [
    {
     "name": "stdout",
     "output_type": "stream",
     "text": [
      "\u001b[32m\u001b[1m Resolving\u001b[22m\u001b[39m package versions...\n",
      "\u001b[32m\u001b[1m  Updating\u001b[22m\u001b[39m `~/.julia/environments/v1.2/Project.toml`\n",
      "\u001b[90m [no changes]\u001b[39m\n",
      "\u001b[32m\u001b[1m  Updating\u001b[22m\u001b[39m `~/.julia/environments/v1.2/Manifest.toml`\n",
      "\u001b[90m [no changes]\u001b[39m\n"
     ]
    }
   ],
   "source": [
    "using Pkg\n",
    "Pkg.add(\"WriteVTK\")\n"
   ]
  },
  {
   "cell_type": "code",
   "execution_count": 4,
   "metadata": {},
   "outputs": [
    {
     "name": "stdout",
     "output_type": "stream",
     "text": [
      "  0.048253 seconds (576 allocations: 1.079 MiB)\n",
      "Saved:  arraydata_2D.vti  arraydata_3D.vti  arrays.vti\n"
     ]
    },
    {
     "data": {
      "text/plain": [
       "3-element Array{String,1}:\n",
       " \"arraydata_2D.vti\"\n",
       " \"arraydata_3D.vti\"\n",
       " \"arrays.vti\"      "
      ]
     },
     "execution_count": 4,
     "metadata": {},
     "output_type": "execute_result"
    }
   ],
   "source": [
    "using WriteVTK\n",
    "using Random: randn, MersenneTwister\n",
    "\n",
    "function main()\n",
    "    Ni, Nj, Nk = 20, 30, 40\n",
    "    outfiles = String[]\n",
    "\n",
    "    # Initialise random number generator with deterministic seed (for\n",
    "    # reproducibility).\n",
    "    rng = MersenneTwister(42)\n",
    "    data = randn(rng, Ni, Nj, Nk)\n",
    "\n",
    "    # Write 2D and 3D arrays.\n",
    "    @time begin\n",
    "        append!(outfiles,\n",
    "                vtk_write_array(\"arraydata_2D\", data[:, :, 1], \"array2D\"))\n",
    "        append!(outfiles,\n",
    "                vtk_write_array(\"arraydata_3D\", data, \"array3D\"))\n",
    "        append!(outfiles,\n",
    "                vtk_write_array(\"arrays\", (data, 2 .* data), (\"A\", \"B\")))\n",
    "    end\n",
    "\n",
    "    println(\"Saved:  \", join(outfiles, \"  \"))\n",
    "\n",
    "    return outfiles\n",
    "end\n",
    "\n",
    "main()"
   ]
  },
  {
   "cell_type": "code",
   "execution_count": null,
   "metadata": {},
   "outputs": [],
   "source": []
  }
 ],
 "metadata": {
  "kernelspec": {
   "display_name": "Julia 1.2.0",
   "language": "julia",
   "name": "julia-1.2"
  },
  "language_info": {
   "file_extension": ".jl",
   "mimetype": "application/julia",
   "name": "julia",
   "version": "1.2.0"
  }
 },
 "nbformat": 4,
 "nbformat_minor": 2
}
