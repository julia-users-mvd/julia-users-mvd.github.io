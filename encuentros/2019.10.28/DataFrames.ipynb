{
 "cells": [
  {
   "cell_type": "markdown",
   "metadata": {},
   "source": [
    "# Introducción"
   ]
  },
  {
   "cell_type": "markdown",
   "metadata": {},
   "source": [
    "## Librerias que utilizamos para la demo: DataFrames.jl y TimeSeries.jl"
   ]
  },
  {
   "cell_type": "code",
   "execution_count": 1,
   "metadata": {},
   "outputs": [
    {
     "name": "stdout",
     "output_type": "stream",
     "text": [
      "\u001b[32m\u001b[1m  Updating\u001b[22m\u001b[39m registry at `C:\\Users\\marce\\.julia\\registries\\General`\n",
      "\u001b[32m\u001b[1m  Updating\u001b[22m\u001b[39m git-repo `https://github.com/JuliaRegistries/General.git`\n",
      "\u001b[2K\u001b[36m\u001b[1mFetching:\u001b[22m\u001b[39m [========================================>]  100.0 %.0 %>                                  ]  13.3 %\u001b[36m\u001b[1mFetching:\u001b[22m\u001b[39m [===========>                             ]  27.3 %\u001b[36m\u001b[1mFetching:\u001b[22m\u001b[39m [=========================>               ]  61.7 %79.7 % [=======================================> ]  96.1 %\u001b[?25h\u001b[32m\u001b[1m Resolving\u001b[22m\u001b[39m package versions...\n",
      "\u001b[32m\u001b[1m Installed\u001b[22m\u001b[39m BinaryProvider ─── v0.5.7\n",
      "\u001b[32m\u001b[1m Installed\u001b[22m\u001b[39m TimeSeries ─────── v0.16.0\n",
      "\u001b[32m\u001b[1m Installed\u001b[22m\u001b[39m MathOptInterface ─ v0.9.6\n",
      "\u001b[32m\u001b[1m  Updating\u001b[22m\u001b[39m `C:\\Users\\marce\\.julia\\environments\\v1.2\\Project.toml`\n",
      " \u001b[90m [9e3dc215]\u001b[39m\u001b[92m + TimeSeries v0.16.0\u001b[39m\n",
      "\u001b[32m\u001b[1m  Updating\u001b[22m\u001b[39m `C:\\Users\\marce\\.julia\\environments\\v1.2\\Manifest.toml`\n",
      " \u001b[90m [b99e7846]\u001b[39m\u001b[93m ↑ BinaryProvider v0.5.6 ⇒ v0.5.7\u001b[39m\n",
      " \u001b[90m [b8f27783]\u001b[39m\u001b[93m ↑ MathOptInterface v0.9.5 ⇒ v0.9.6\u001b[39m\n",
      " \u001b[90m [9e3dc215]\u001b[39m\u001b[92m + TimeSeries v0.16.0\u001b[39m\n"
     ]
    }
   ],
   "source": [
    "] add TimeSeries # correr solo 1 vez"
   ]
  },
  {
   "cell_type": "code",
   "execution_count": 2,
   "metadata": {},
   "outputs": [
    {
     "name": "stdout",
     "output_type": "stream",
     "text": [
      "\u001b[32m\u001b[1m Resolving\u001b[22m\u001b[39m package versions...\n",
      "\u001b[32m\u001b[1m Installed\u001b[22m\u001b[39m DataFrames ─ v0.19.4\n",
      "\u001b[32m\u001b[1m  Updating\u001b[22m\u001b[39m `C:\\Users\\marce\\.julia\\environments\\v1.2\\Project.toml`\n",
      " \u001b[90m [a93c6f00]\u001b[39m\u001b[92m + DataFrames v0.19.4\u001b[39m\n",
      "\u001b[32m\u001b[1m  Updating\u001b[22m\u001b[39m `C:\\Users\\marce\\.julia\\environments\\v1.2\\Manifest.toml`\n",
      " \u001b[90m [a93c6f00]\u001b[39m\u001b[92m + DataFrames v0.19.4\u001b[39m\n"
     ]
    }
   ],
   "source": [
    "] add DataFrames # correr solo 1 vez"
   ]
  },
  {
   "cell_type": "code",
   "execution_count": 3,
   "metadata": {},
   "outputs": [
    {
     "name": "stderr",
     "output_type": "stream",
     "text": [
      "┌ Info: Precompiling DataFrames [a93c6f00-e57d-5684-b7b6-d8193f3e46c0]\n",
      "└ @ Base loading.jl:1242\n"
     ]
    }
   ],
   "source": [
    "using DataFrames"
   ]
  },
  {
   "cell_type": "code",
   "execution_count": null,
   "metadata": {},
   "outputs": [],
   "source": [
    "using TimeSeries"
   ]
  },
  {
   "cell_type": "code",
   "execution_count": 19,
   "metadata": {},
   "outputs": [
    {
     "name": "stdout",
     "output_type": "stream",
     "text": [
      "\u001b[32m\u001b[1m  Updating\u001b[22m\u001b[39m registry at `C:\\Users\\marce\\.julia\\registries\\General`\n",
      "\u001b[32m\u001b[1m  Updating\u001b[22m\u001b[39m git-repo `https://github.com/JuliaRegistries/General.git`\n",
      "\u001b[?25l\u001b[2K\u001b[?25h\u001b[32m\u001b[1m Resolving\u001b[22m\u001b[39m package versions...\n",
      "\u001b[32m\u001b[1m Installed\u001b[22m\u001b[39m WeakRefStrings ─ v0.6.1\n",
      "\u001b[32m\u001b[1m Installed\u001b[22m\u001b[39m FilePathsBase ── v0.6.2\n",
      "\u001b[32m\u001b[1m Installed\u001b[22m\u001b[39m LazyArrays ───── v0.12.3\n",
      "\u001b[32m\u001b[1m Installed\u001b[22m\u001b[39m Interpolations ─ v0.12.3\n",
      "\u001b[32m\u001b[1m Installed\u001b[22m\u001b[39m CSV ──────────── v0.5.14\n",
      "\u001b[32m\u001b[1m  Updating\u001b[22m\u001b[39m `C:\\Users\\marce\\.julia\\environments\\v1.2\\Project.toml`\n",
      " \u001b[90m [336ed68f]\u001b[39m\u001b[92m + CSV v0.5.14\u001b[39m\n",
      " \u001b[90m [b4f0291d]\u001b[39m\u001b[93m ↑ LazySets v1.21.0 [`C:\\Users\\marce\\.julia\\dev\\LazySets`] ⇒ v1.22.0 [`C:\\Users\\marce\\.julia\\dev\\LazySets`]\u001b[39m\n",
      "\u001b[32m\u001b[1m  Updating\u001b[22m\u001b[39m `C:\\Users\\marce\\.julia\\environments\\v1.2\\Manifest.toml`\n",
      " \u001b[90m [336ed68f]\u001b[39m\u001b[92m + CSV v0.5.14\u001b[39m\n",
      " \u001b[90m [48062228]\u001b[39m\u001b[92m + FilePathsBase v0.6.2\u001b[39m\n",
      " \u001b[90m [a98d9a8b]\u001b[39m\u001b[93m ↑ Interpolations v0.12.2 ⇒ v0.12.3\u001b[39m\n",
      " \u001b[90m [5078a376]\u001b[39m\u001b[92m + LazyArrays v0.12.3\u001b[39m\n",
      " \u001b[90m [b4f0291d]\u001b[39m\u001b[93m ↑ LazySets v1.21.0 [`C:\\Users\\marce\\.julia\\dev\\LazySets`] ⇒ v1.22.0 [`C:\\Users\\marce\\.julia\\dev\\LazySets`]\u001b[39m\n",
      " \u001b[90m [69de0a69]\u001b[39m\u001b[92m + Parsers v0.3.7\u001b[39m\n",
      " \u001b[90m [ea10d353]\u001b[39m\u001b[92m + WeakRefStrings v0.6.1\u001b[39m\n"
     ]
    }
   ],
   "source": [
    "] add CSV"
   ]
  },
  {
   "cell_type": "markdown",
   "metadata": {},
   "source": [
    "## Referencias\n",
    "\n",
    "- Documentacion de DataFrames.jl: https://juliadata.github.io/DataFrames.jl/stable/\n",
    "- Video de introduccion a DataFrames en Julia: https://www.youtube.com/watch?v=0-Xsts_s5Wc"
   ]
  },
  {
   "cell_type": "markdown",
   "metadata": {},
   "source": [
    "# Creacion de un DataFrame a partir de Julia arrays"
   ]
  },
  {
   "cell_type": "code",
   "execution_count": 116,
   "metadata": {},
   "outputs": [],
   "source": [
    "using DataFrames, CSV"
   ]
  },
  {
   "cell_type": "code",
   "execution_count": 117,
   "metadata": {},
   "outputs": [
    {
     "data": {
      "text/html": [
       "<table class=\"data-frame\"><thead><tr><th></th><th>id_estudiante</th><th>nota</th></tr><tr><th></th><th>Int64</th><th>String</th></tr></thead><tbody><p>4 rows × 2 columns</p><tr><th>1</th><td>1</td><td>79</td></tr><tr><th>2</th><td>2</td><td>46</td></tr><tr><th>3</th><td>3</td><td>64</td></tr><tr><th>4</th><td>4</td><td>88</td></tr></tbody></table>"
      ],
      "text/latex": [
       "\\begin{tabular}{r|cc}\n",
       "\t& id\\_estudiante & nota\\\\\n",
       "\t\\hline\n",
       "\t& Int64 & String\\\\\n",
       "\t\\hline\n",
       "\t1 & 1 & 79 \\\\\n",
       "\t2 & 2 & 46 \\\\\n",
       "\t3 & 3 & 64 \\\\\n",
       "\t4 & 4 & 88 \\\\\n",
       "\\end{tabular}\n"
      ],
      "text/plain": [
       "4×2 DataFrame\n",
       "│ Row │ id_estudiante │ nota   │\n",
       "│     │ \u001b[90mInt64\u001b[39m         │ \u001b[90mString\u001b[39m │\n",
       "├─────┼───────────────┼────────┤\n",
       "│ 1   │ 1             │ 79     │\n",
       "│ 2   │ 2             │ 46     │\n",
       "│ 3   │ 3             │ 64     │\n",
       "│ 4   │ 4             │ 88     │"
      ]
     },
     "execution_count": 117,
     "metadata": {},
     "output_type": "execute_result"
    }
   ],
   "source": [
    "df = DataFrame(id_estudiante = 1:4, nota = [\"79\", \"46\", \"64\", \"88\"])"
   ]
  },
  {
   "cell_type": "code",
   "execution_count": 26,
   "metadata": {},
   "outputs": [
    {
     "data": {
      "text/html": [
       "<p>DataFrameRow (2 columns)</p><table class=\"data-frame\"><thead><tr><th></th><th>id_estudiante</th><th>nota</th></tr><tr><th></th><th>Int64</th><th>String</th></tr></thead><tbody><tr><th>1</th><td>1</td><td>79</td></tr></tbody></table>"
      ],
      "text/latex": [
       "\\begin{tabular}{r|cc}\n",
       "\t& id\\_estudiante & nota\\\\\n",
       "\t\\hline\n",
       "\t& Int64 & String\\\\\n",
       "\t\\hline\n",
       "\t1 & 1 & 79 \\\\\n",
       "\\end{tabular}\n"
      ],
      "text/plain": [
       "DataFrameRow\n",
       "│ Row │ id_estudiante │ nota   │\n",
       "│     │ \u001b[90mInt64\u001b[39m         │ \u001b[90mString\u001b[39m │\n",
       "├─────┼───────────────┼────────┤\n",
       "│ 1   │ 1             │ 79     │"
      ]
     },
     "execution_count": 26,
     "metadata": {},
     "output_type": "execute_result"
    }
   ],
   "source": [
    "first(df)"
   ]
  },
  {
   "cell_type": "code",
   "execution_count": 27,
   "metadata": {},
   "outputs": [
    {
     "data": {
      "text/html": [
       "<table class=\"data-frame\"><thead><tr><th></th><th>id_estudiante</th><th>nota</th></tr><tr><th></th><th>Int64</th><th>String</th></tr></thead><tbody><p>2 rows × 2 columns</p><tr><th>1</th><td>1</td><td>79</td></tr><tr><th>2</th><td>2</td><td>46</td></tr></tbody></table>"
      ],
      "text/latex": [
       "\\begin{tabular}{r|cc}\n",
       "\t& id\\_estudiante & nota\\\\\n",
       "\t\\hline\n",
       "\t& Int64 & String\\\\\n",
       "\t\\hline\n",
       "\t1 & 1 & 79 \\\\\n",
       "\t2 & 2 & 46 \\\\\n",
       "\\end{tabular}\n"
      ],
      "text/plain": [
       "2×2 DataFrame\n",
       "│ Row │ id_estudiante │ nota   │\n",
       "│     │ \u001b[90mInt64\u001b[39m         │ \u001b[90mString\u001b[39m │\n",
       "├─────┼───────────────┼────────┤\n",
       "│ 1   │ 1             │ 79     │\n",
       "│ 2   │ 2             │ 46     │"
      ]
     },
     "execution_count": 27,
     "metadata": {},
     "output_type": "execute_result"
    }
   ],
   "source": [
    "first(df, 2)"
   ]
  },
  {
   "cell_type": "code",
   "execution_count": 119,
   "metadata": {},
   "outputs": [
    {
     "data": {
      "text/html": [
       "<table class=\"data-frame\"><thead><tr><th></th><th>id_estudiante</th><th>nota</th></tr><tr><th></th><th>Int64</th><th>String</th></tr></thead><tbody><p>2 rows × 2 columns</p><tr><th>1</th><td>3</td><td>64</td></tr><tr><th>2</th><td>4</td><td>88</td></tr></tbody></table>"
      ],
      "text/latex": [
       "\\begin{tabular}{r|cc}\n",
       "\t& id\\_estudiante & nota\\\\\n",
       "\t\\hline\n",
       "\t& Int64 & String\\\\\n",
       "\t\\hline\n",
       "\t1 & 3 & 64 \\\\\n",
       "\t2 & 4 & 88 \\\\\n",
       "\\end{tabular}\n"
      ],
      "text/plain": [
       "2×2 DataFrame\n",
       "│ Row │ id_estudiante │ nota   │\n",
       "│     │ \u001b[90mInt64\u001b[39m         │ \u001b[90mString\u001b[39m │\n",
       "├─────┼───────────────┼────────┤\n",
       "│ 1   │ 3             │ 64     │\n",
       "│ 2   │ 4             │ 88     │"
      ]
     },
     "execution_count": 119,
     "metadata": {},
     "output_type": "execute_result"
    }
   ],
   "source": [
    "last(df, 2)"
   ]
  },
  {
   "cell_type": "markdown",
   "metadata": {},
   "source": [
    "# Indexacion vectorial"
   ]
  },
  {
   "cell_type": "code",
   "execution_count": 120,
   "metadata": {},
   "outputs": [
    {
     "data": {
      "text/plain": [
       "(:columns, :colindex)"
      ]
     },
     "execution_count": 120,
     "metadata": {},
     "output_type": "execute_result"
    }
   ],
   "source": [
    "fieldnames(typeof(df))"
   ]
  },
  {
   "cell_type": "code",
   "execution_count": 121,
   "metadata": {},
   "outputs": [],
   "source": [
    "# acceso a las columnas por referencia ( = sin copiar)"
   ]
  },
  {
   "cell_type": "code",
   "execution_count": 122,
   "metadata": {},
   "outputs": [
    {
     "data": {
      "text/plain": [
       "2-element Array{AbstractArray{T,1} where T,1}:\n",
       " [1, 2, 3, 4]            \n",
       " [\"79\", \"46\", \"64\", \"88\"]"
      ]
     },
     "execution_count": 122,
     "metadata": {},
     "output_type": "execute_result"
    }
   ],
   "source": [
    "getfield(df, :columns)"
   ]
  },
  {
   "cell_type": "code",
   "execution_count": 43,
   "metadata": {},
   "outputs": [
    {
     "data": {
      "text/plain": [
       "DataFrames.Index(Dict(:id_estudiante => 1,:nota => 2), Symbol[:id_estudiante, :nota])"
      ]
     },
     "execution_count": 43,
     "metadata": {},
     "output_type": "execute_result"
    }
   ],
   "source": [
    "getfield(df, :colindex)"
   ]
  },
  {
   "cell_type": "code",
   "execution_count": 45,
   "metadata": {},
   "outputs": [
    {
     "data": {
      "text/plain": [
       "2-element Array{Symbol,1}:\n",
       " :id_estudiante\n",
       " :nota         "
      ]
     },
     "execution_count": 45,
     "metadata": {},
     "output_type": "execute_result"
    }
   ],
   "source": [
    "# para obtener los nombres de las columnas utilizamos names(df)\n",
    "names(df) # notar que los nombres de las columnas son simbolos, no cadenas de caracteres"
   ]
  },
  {
   "cell_type": "code",
   "execution_count": 127,
   "metadata": {},
   "outputs": [
    {
     "data": {
      "text/plain": [
       ":(x + y ^ 2)"
      ]
     },
     "execution_count": 127,
     "metadata": {},
     "output_type": "execute_result"
    }
   ],
   "source": [
    "s = :(x + y^2)"
   ]
  },
  {
   "cell_type": "code",
   "execution_count": 128,
   "metadata": {},
   "outputs": [
    {
     "name": "stdout",
     "output_type": "stream",
     "text": [
      "Expr\n",
      "  head: Symbol call\n",
      "  args: Array{Any}((3,))\n",
      "    1: Symbol +\n",
      "    2: Symbol x\n",
      "    3: Expr\n",
      "      head: Symbol call\n",
      "      args: Array{Any}((3,))\n",
      "        1: Symbol ^\n",
      "        2: Symbol y\n",
      "        3: Int64 2\n"
     ]
    }
   ],
   "source": [
    "dump(s)"
   ]
  },
  {
   "cell_type": "code",
   "execution_count": 51,
   "metadata": {},
   "outputs": [
    {
     "name": "stderr",
     "output_type": "stream",
     "text": [
      "┌ Warning: `getindex(df::DataFrame, col_ind::ColumnIndex)` is deprecated, use `df[!, col_ind]` instead.\n",
      "│   caller = top-level scope at In[51]:1\n",
      "└ @ Core In[51]:1\n"
     ]
    },
    {
     "data": {
      "text/plain": [
       "4-element Array{Int64,1}:\n",
       " 1\n",
       " 2\n",
       " 3\n",
       " 4"
      ]
     },
     "execution_count": 51,
     "metadata": {},
     "output_type": "execute_result"
    }
   ],
   "source": [
    "df[:id_estudiante] # aparece un deprecation warning..."
   ]
  },
  {
   "cell_type": "code",
   "execution_count": 131,
   "metadata": {},
   "outputs": [
    {
     "data": {
      "text/plain": [
       "4-element Array{Int64,1}:\n",
       " 1\n",
       " 2\n",
       " 3\n",
       " 4"
      ]
     },
     "execution_count": 131,
     "metadata": {},
     "output_type": "execute_result"
    }
   ],
   "source": [
    "# sugiere usar\n",
    "z = df[!, :id_estudiante]"
   ]
  },
  {
   "cell_type": "code",
   "execution_count": 132,
   "metadata": {},
   "outputs": [
    {
     "data": {
      "text/plain": [
       "Ptr{Int64} @0x0000000037fa8590"
      ]
     },
     "execution_count": 132,
     "metadata": {},
     "output_type": "execute_result"
    }
   ],
   "source": [
    "pointer(z)"
   ]
  },
  {
   "cell_type": "code",
   "execution_count": 133,
   "metadata": {},
   "outputs": [
    {
     "data": {
      "text/plain": [
       "4-element Array{Int64,1}:\n",
       " 1\n",
       " 2\n",
       " 3\n",
       " 4"
      ]
     },
     "execution_count": 133,
     "metadata": {},
     "output_type": "execute_result"
    }
   ],
   "source": [
    "u = df[:, :id_estudiante] # la notacion con \":\" funciona tambien"
   ]
  },
  {
   "cell_type": "code",
   "execution_count": 135,
   "metadata": {},
   "outputs": [
    {
     "data": {
      "text/plain": [
       "4-element Array{Int64,1}:\n",
       " 2\n",
       " 4\n",
       " 6\n",
       " 8"
      ]
     },
     "execution_count": 135,
     "metadata": {},
     "output_type": "execute_result"
    }
   ],
   "source": [
    "u = 2u"
   ]
  },
  {
   "cell_type": "code",
   "execution_count": 136,
   "metadata": {},
   "outputs": [
    {
     "data": {
      "text/html": [
       "<table class=\"data-frame\"><thead><tr><th></th><th>id_estudiante</th><th>nota</th></tr><tr><th></th><th>Int64</th><th>String</th></tr></thead><tbody><p>4 rows × 2 columns</p><tr><th>1</th><td>1</td><td>79</td></tr><tr><th>2</th><td>2</td><td>46</td></tr><tr><th>3</th><td>3</td><td>64</td></tr><tr><th>4</th><td>4</td><td>88</td></tr></tbody></table>"
      ],
      "text/latex": [
       "\\begin{tabular}{r|cc}\n",
       "\t& id\\_estudiante & nota\\\\\n",
       "\t\\hline\n",
       "\t& Int64 & String\\\\\n",
       "\t\\hline\n",
       "\t1 & 1 & 79 \\\\\n",
       "\t2 & 2 & 46 \\\\\n",
       "\t3 & 3 & 64 \\\\\n",
       "\t4 & 4 & 88 \\\\\n",
       "\\end{tabular}\n"
      ],
      "text/plain": [
       "4×2 DataFrame\n",
       "│ Row │ id_estudiante │ nota   │\n",
       "│     │ \u001b[90mInt64\u001b[39m         │ \u001b[90mString\u001b[39m │\n",
       "├─────┼───────────────┼────────┤\n",
       "│ 1   │ 1             │ 79     │\n",
       "│ 2   │ 2             │ 46     │\n",
       "│ 3   │ 3             │ 64     │\n",
       "│ 4   │ 4             │ 88     │"
      ]
     },
     "execution_count": 136,
     "metadata": {},
     "output_type": "execute_result"
    }
   ],
   "source": [
    "df"
   ]
  },
  {
   "cell_type": "code",
   "execution_count": 137,
   "metadata": {},
   "outputs": [
    {
     "data": {
      "text/plain": [
       "4-element Array{Int64,1}:\n",
       " 2\n",
       " 4\n",
       " 6\n",
       " 8"
      ]
     },
     "execution_count": 137,
     "metadata": {},
     "output_type": "execute_result"
    }
   ],
   "source": [
    "z = 2z"
   ]
  },
  {
   "cell_type": "code",
   "execution_count": 138,
   "metadata": {},
   "outputs": [
    {
     "data": {
      "text/html": [
       "<table class=\"data-frame\"><thead><tr><th></th><th>id_estudiante</th><th>nota</th></tr><tr><th></th><th>Int64</th><th>String</th></tr></thead><tbody><p>4 rows × 2 columns</p><tr><th>1</th><td>1</td><td>79</td></tr><tr><th>2</th><td>2</td><td>46</td></tr><tr><th>3</th><td>3</td><td>64</td></tr><tr><th>4</th><td>4</td><td>88</td></tr></tbody></table>"
      ],
      "text/latex": [
       "\\begin{tabular}{r|cc}\n",
       "\t& id\\_estudiante & nota\\\\\n",
       "\t\\hline\n",
       "\t& Int64 & String\\\\\n",
       "\t\\hline\n",
       "\t1 & 1 & 79 \\\\\n",
       "\t2 & 2 & 46 \\\\\n",
       "\t3 & 3 & 64 \\\\\n",
       "\t4 & 4 & 88 \\\\\n",
       "\\end{tabular}\n"
      ],
      "text/plain": [
       "4×2 DataFrame\n",
       "│ Row │ id_estudiante │ nota   │\n",
       "│     │ \u001b[90mInt64\u001b[39m         │ \u001b[90mString\u001b[39m │\n",
       "├─────┼───────────────┼────────┤\n",
       "│ 1   │ 1             │ 79     │\n",
       "│ 2   │ 2             │ 46     │\n",
       "│ 3   │ 3             │ 64     │\n",
       "│ 4   │ 4             │ 88     │"
      ]
     },
     "execution_count": 138,
     "metadata": {},
     "output_type": "execute_result"
    }
   ],
   "source": [
    "df"
   ]
  },
  {
   "cell_type": "code",
   "execution_count": 149,
   "metadata": {},
   "outputs": [
    {
     "data": {
      "text/plain": [
       "4-element Array{Int64,1}:\n",
       " 1\n",
       " 2\n",
       " 3\n",
       " 4"
      ]
     },
     "execution_count": 149,
     "metadata": {},
     "output_type": "execute_result"
    }
   ],
   "source": [
    "z = df[!, :id_estudiante]"
   ]
  },
  {
   "cell_type": "code",
   "execution_count": 150,
   "metadata": {},
   "outputs": [
    {
     "data": {
      "text/plain": [
       "Ptr{Int64} @0x0000000037fa8590"
      ]
     },
     "execution_count": 150,
     "metadata": {},
     "output_type": "execute_result"
    }
   ],
   "source": [
    "pointer(df[!, :id_estudiante])"
   ]
  },
  {
   "cell_type": "code",
   "execution_count": 151,
   "metadata": {},
   "outputs": [
    {
     "data": {
      "text/plain": [
       "Ptr{Int64} @0x0000000037fa8590"
      ]
     },
     "execution_count": 151,
     "metadata": {},
     "output_type": "execute_result"
    }
   ],
   "source": [
    "pointer(z)"
   ]
  },
  {
   "cell_type": "code",
   "execution_count": 156,
   "metadata": {},
   "outputs": [
    {
     "data": {
      "text/plain": [
       "Ptr{Int64} @0x00000000109f5240"
      ]
     },
     "execution_count": 156,
     "metadata": {},
     "output_type": "execute_result"
    }
   ],
   "source": [
    "u = df[:, :id_estudiante]\n",
    "pointer(df[:, :id_estudiante])"
   ]
  },
  {
   "cell_type": "code",
   "execution_count": 157,
   "metadata": {},
   "outputs": [
    {
     "data": {
      "text/plain": [
       "Ptr{Int64} @0x00000000109ef070"
      ]
     },
     "execution_count": 157,
     "metadata": {},
     "output_type": "execute_result"
    }
   ],
   "source": [
    "pointer(u)"
   ]
  },
  {
   "cell_type": "code",
   "execution_count": 173,
   "metadata": {},
   "outputs": [
    {
     "data": {
      "text/plain": [
       "3×3 Array{Float64,2}:\n",
       " 0.196758  0.414487  0.811118\n",
       " 0.894995  0.3333    0.490153\n",
       " 0.912906  0.708423  0.660211"
      ]
     },
     "execution_count": 173,
     "metadata": {},
     "output_type": "execute_result"
    }
   ],
   "source": [
    "A = rand(3, 3)"
   ]
  },
  {
   "cell_type": "code",
   "execution_count": 174,
   "metadata": {},
   "outputs": [
    {
     "data": {
      "text/plain": [
       "3-element Array{Float64,1}:\n",
       " 0.19675753326259549\n",
       " 0.8949952315891265 \n",
       " 0.912906315422183  "
      ]
     },
     "execution_count": 174,
     "metadata": {},
     "output_type": "execute_result"
    }
   ],
   "source": [
    "c = A[:, 1]"
   ]
  },
  {
   "cell_type": "code",
   "execution_count": 175,
   "metadata": {},
   "outputs": [
    {
     "data": {
      "text/plain": [
       "100"
      ]
     },
     "execution_count": 175,
     "metadata": {},
     "output_type": "execute_result"
    }
   ],
   "source": [
    "c[1, 1] = 100"
   ]
  },
  {
   "cell_type": "code",
   "execution_count": 177,
   "metadata": {},
   "outputs": [
    {
     "data": {
      "text/plain": [
       "3-element view(::Array{Float64,2}, :, 1) with eltype Float64:\n",
       " 0.19675753326259549\n",
       " 0.8949952315891265 \n",
       " 0.912906315422183  "
      ]
     },
     "execution_count": 177,
     "metadata": {},
     "output_type": "execute_result"
    }
   ],
   "source": [
    "view(A, :, 1)"
   ]
  },
  {
   "cell_type": "code",
   "execution_count": 142,
   "metadata": {},
   "outputs": [
    {
     "data": {
      "text/plain": [
       "false"
      ]
     },
     "execution_count": 142,
     "metadata": {},
     "output_type": "execute_result"
    }
   ],
   "source": [
    "df[:, :id_estudiante] === df[:, :id_estudiante]"
   ]
  },
  {
   "cell_type": "code",
   "execution_count": 143,
   "metadata": {},
   "outputs": [
    {
     "data": {
      "text/plain": [
       "true"
      ]
     },
     "execution_count": 143,
     "metadata": {},
     "output_type": "execute_result"
    }
   ],
   "source": [
    "df[!, :id_estudiante] === df[!, :id_estudiante]"
   ]
  },
  {
   "cell_type": "code",
   "execution_count": null,
   "metadata": {},
   "outputs": [],
   "source": [
    "# tambien puedo acceder a los elementos por referencia accediendo al nombre df.[col_name]"
   ]
  },
  {
   "cell_type": "code",
   "execution_count": 178,
   "metadata": {},
   "outputs": [
    {
     "data": {
      "text/plain": [
       "4-element Array{Int64,1}:\n",
       " 1\n",
       " 2\n",
       " 3\n",
       " 4"
      ]
     },
     "execution_count": 178,
     "metadata": {},
     "output_type": "execute_result"
    }
   ],
   "source": [
    "df.id_estudiante # tambien accedo por referencia"
   ]
  },
  {
   "cell_type": "code",
   "execution_count": 179,
   "metadata": {},
   "outputs": [
    {
     "data": {
      "text/plain": [
       "4-element Array{String,1}:\n",
       " \"79\"\n",
       " \"46\"\n",
       " \"64\"\n",
       " \"88\""
      ]
     },
     "execution_count": 179,
     "metadata": {},
     "output_type": "execute_result"
    }
   ],
   "source": [
    "df.nota # tambien accedo por referencia"
   ]
  },
  {
   "cell_type": "code",
   "execution_count": 180,
   "metadata": {},
   "outputs": [
    {
     "data": {
      "text/plain": [
       "\"70\""
      ]
     },
     "execution_count": 180,
     "metadata": {},
     "output_type": "execute_result"
    }
   ],
   "source": [
    "df.nota[1] = \"70\""
   ]
  },
  {
   "cell_type": "code",
   "execution_count": 181,
   "metadata": {},
   "outputs": [
    {
     "data": {
      "text/html": [
       "<table class=\"data-frame\"><thead><tr><th></th><th>id_estudiante</th><th>nota</th></tr><tr><th></th><th>Int64</th><th>String</th></tr></thead><tbody><p>4 rows × 2 columns</p><tr><th>1</th><td>1</td><td>70</td></tr><tr><th>2</th><td>2</td><td>46</td></tr><tr><th>3</th><td>3</td><td>64</td></tr><tr><th>4</th><td>4</td><td>88</td></tr></tbody></table>"
      ],
      "text/latex": [
       "\\begin{tabular}{r|cc}\n",
       "\t& id\\_estudiante & nota\\\\\n",
       "\t\\hline\n",
       "\t& Int64 & String\\\\\n",
       "\t\\hline\n",
       "\t1 & 1 & 70 \\\\\n",
       "\t2 & 2 & 46 \\\\\n",
       "\t3 & 3 & 64 \\\\\n",
       "\t4 & 4 & 88 \\\\\n",
       "\\end{tabular}\n"
      ],
      "text/plain": [
       "4×2 DataFrame\n",
       "│ Row │ id_estudiante │ nota   │\n",
       "│     │ \u001b[90mInt64\u001b[39m         │ \u001b[90mString\u001b[39m │\n",
       "├─────┼───────────────┼────────┤\n",
       "│ 1   │ 1             │ 70     │\n",
       "│ 2   │ 2             │ 46     │\n",
       "│ 3   │ 3             │ 64     │\n",
       "│ 4   │ 4             │ 88     │"
      ]
     },
     "execution_count": 181,
     "metadata": {},
     "output_type": "execute_result"
    }
   ],
   "source": [
    "df # notese que actualice la primera entrada "
   ]
  },
  {
   "cell_type": "code",
   "execution_count": 182,
   "metadata": {},
   "outputs": [
    {
     "data": {
      "text/plain": [
       "true"
      ]
     },
     "execution_count": 182,
     "metadata": {},
     "output_type": "execute_result"
    }
   ],
   "source": [
    "# en Julia, se usa el simbolo === para identificar el mismo objeto (por referencia), mientras que == compara el valor\n",
    "df.nota === df[!, :nota]"
   ]
  },
  {
   "cell_type": "code",
   "execution_count": 184,
   "metadata": {},
   "outputs": [
    {
     "data": {
      "text/plain": [
       "false"
      ]
     },
     "execution_count": 184,
     "metadata": {},
     "output_type": "execute_result"
    }
   ],
   "source": [
    "# con : genera una copia\n",
    "df[!, :nota] === df[:, :nota]"
   ]
  },
  {
   "cell_type": "code",
   "execution_count": 185,
   "metadata": {},
   "outputs": [
    {
     "data": {
      "text/html": [
       "<table class=\"data-frame\"><thead><tr><th></th></tr><tr><th></th></tr></thead><tbody><p>0 rows × 0 columns</p></tbody></table>"
      ],
      "text/latex": [
       "\\begin{tabular}{r|}\n",
       "\t& \\\\\n",
       "\t\\hline\n",
       "\t& \\\\\n",
       "\t\\hline\n",
       "\\end{tabular}\n"
      ],
      "text/plain": [
       "0×0 DataFrame\n"
      ]
     },
     "execution_count": 185,
     "metadata": {},
     "output_type": "execute_result"
    }
   ],
   "source": [
    "# generar un data frame vacio\n",
    "x = DataFrame()"
   ]
  },
  {
   "cell_type": "code",
   "execution_count": 186,
   "metadata": {},
   "outputs": [
    {
     "data": {
      "text/plain": [
       "3-element Array{String,1}:\n",
       " \"Marcelo\" \n",
       " \"Santiago\"\n",
       " \"Emilia\"  "
      ]
     },
     "execution_count": 186,
     "metadata": {},
     "output_type": "execute_result"
    }
   ],
   "source": [
    "x.nombre = [\"Marcelo\", \"Santiago\", \"Emilia\"]"
   ]
  },
  {
   "cell_type": "code",
   "execution_count": 187,
   "metadata": {},
   "outputs": [
    {
     "data": {
      "text/html": [
       "<table class=\"data-frame\"><thead><tr><th></th><th>nombre</th></tr><tr><th></th><th>String</th></tr></thead><tbody><p>3 rows × 1 columns</p><tr><th>1</th><td>Marcelo</td></tr><tr><th>2</th><td>Santiago</td></tr><tr><th>3</th><td>Emilia</td></tr></tbody></table>"
      ],
      "text/latex": [
       "\\begin{tabular}{r|c}\n",
       "\t& nombre\\\\\n",
       "\t\\hline\n",
       "\t& String\\\\\n",
       "\t\\hline\n",
       "\t1 & Marcelo \\\\\n",
       "\t2 & Santiago \\\\\n",
       "\t3 & Emilia \\\\\n",
       "\\end{tabular}\n"
      ],
      "text/plain": [
       "3×1 DataFrame\n",
       "│ Row │ nombre   │\n",
       "│     │ \u001b[90mString\u001b[39m   │\n",
       "├─────┼──────────┤\n",
       "│ 1   │ Marcelo  │\n",
       "│ 2   │ Santiago │\n",
       "│ 3   │ Emilia   │"
      ]
     },
     "execution_count": 187,
     "metadata": {},
     "output_type": "execute_result"
    }
   ],
   "source": [
    "x"
   ]
  },
  {
   "cell_type": "code",
   "execution_count": 188,
   "metadata": {},
   "outputs": [
    {
     "data": {
      "text/plain": [
       "3-element Array{Int64,1}:\n",
       " 31\n",
       " 34\n",
       " 26"
      ]
     },
     "execution_count": 188,
     "metadata": {},
     "output_type": "execute_result"
    }
   ],
   "source": [
    "x.edad = [31, 34, 26]"
   ]
  },
  {
   "cell_type": "code",
   "execution_count": 189,
   "metadata": {},
   "outputs": [
    {
     "data": {
      "text/html": [
       "<table class=\"data-frame\"><thead><tr><th></th><th>nombre</th><th>edad</th></tr><tr><th></th><th>String</th><th>Int64</th></tr></thead><tbody><p>3 rows × 2 columns</p><tr><th>1</th><td>Marcelo</td><td>31</td></tr><tr><th>2</th><td>Santiago</td><td>34</td></tr><tr><th>3</th><td>Emilia</td><td>26</td></tr></tbody></table>"
      ],
      "text/latex": [
       "\\begin{tabular}{r|cc}\n",
       "\t& nombre & edad\\\\\n",
       "\t\\hline\n",
       "\t& String & Int64\\\\\n",
       "\t\\hline\n",
       "\t1 & Marcelo & 31 \\\\\n",
       "\t2 & Santiago & 34 \\\\\n",
       "\t3 & Emilia & 26 \\\\\n",
       "\\end{tabular}\n"
      ],
      "text/plain": [
       "3×2 DataFrame\n",
       "│ Row │ nombre   │ edad  │\n",
       "│     │ \u001b[90mString\u001b[39m   │ \u001b[90mInt64\u001b[39m │\n",
       "├─────┼──────────┼───────┤\n",
       "│ 1   │ Marcelo  │ 31    │\n",
       "│ 2   │ Santiago │ 34    │\n",
       "│ 3   │ Emilia   │ 26    │"
      ]
     },
     "execution_count": 189,
     "metadata": {},
     "output_type": "execute_result"
    }
   ],
   "source": [
    "x"
   ]
  },
  {
   "cell_type": "code",
   "execution_count": 190,
   "metadata": {},
   "outputs": [
    {
     "data": {
      "text/plain": [
       "(3, 2)"
      ]
     },
     "execution_count": 190,
     "metadata": {},
     "output_type": "execute_result"
    }
   ],
   "source": [
    "# para chequear la cantidad de filas y de columnas usamos la funcion size\n",
    "size(x)"
   ]
  },
  {
   "cell_type": "code",
   "execution_count": 68,
   "metadata": {},
   "outputs": [],
   "source": [
    "# haciendo un data frame fila por fila"
   ]
  },
  {
   "cell_type": "code",
   "execution_count": 191,
   "metadata": {},
   "outputs": [
    {
     "data": {
      "text/html": [
       "<table class=\"data-frame\"><thead><tr><th></th><th>nombre</th><th>edad</th></tr><tr><th></th><th>String</th><th>Int64</th></tr></thead><tbody><p>0 rows × 2 columns</p></tbody></table>"
      ],
      "text/latex": [
       "\\begin{tabular}{r|cc}\n",
       "\t& nombre & edad\\\\\n",
       "\t\\hline\n",
       "\t& String & Int64\\\\\n",
       "\t\\hline\n",
       "\\end{tabular}\n"
      ],
      "text/plain": [
       "0×2 DataFrame\n"
      ]
     },
     "execution_count": 191,
     "metadata": {},
     "output_type": "execute_result"
    }
   ],
   "source": [
    "df = DataFrame(nombre = String[], edad = Int[])"
   ]
  },
  {
   "cell_type": "code",
   "execution_count": 192,
   "metadata": {},
   "outputs": [
    {
     "data": {
      "text/html": [
       "<table class=\"data-frame\"><thead><tr><th></th><th>nombre</th><th>edad</th></tr><tr><th></th><th>String</th><th>Int64</th></tr></thead><tbody><p>1 rows × 2 columns</p><tr><th>1</th><td>Marcos</td><td>30</td></tr></tbody></table>"
      ],
      "text/latex": [
       "\\begin{tabular}{r|cc}\n",
       "\t& nombre & edad\\\\\n",
       "\t\\hline\n",
       "\t& String & Int64\\\\\n",
       "\t\\hline\n",
       "\t1 & Marcos & 30 \\\\\n",
       "\\end{tabular}\n"
      ],
      "text/plain": [
       "1×2 DataFrame\n",
       "│ Row │ nombre │ edad  │\n",
       "│     │ \u001b[90mString\u001b[39m │ \u001b[90mInt64\u001b[39m │\n",
       "├─────┼────────┼───────┤\n",
       "│ 1   │ Marcos │ 30    │"
      ]
     },
     "execution_count": 192,
     "metadata": {},
     "output_type": "execute_result"
    }
   ],
   "source": [
    "push!(df, (\"Marcos\", 30))"
   ]
  },
  {
   "cell_type": "code",
   "execution_count": 193,
   "metadata": {},
   "outputs": [
    {
     "data": {
      "text/html": [
       "<table class=\"data-frame\"><thead><tr><th></th><th>nombre</th><th>edad</th></tr><tr><th></th><th>String</th><th>Int64</th></tr></thead><tbody><p>2 rows × 2 columns</p><tr><th>1</th><td>Marcos</td><td>30</td></tr><tr><th>2</th><td>Silvana</td><td>35</td></tr></tbody></table>"
      ],
      "text/latex": [
       "\\begin{tabular}{r|cc}\n",
       "\t& nombre & edad\\\\\n",
       "\t\\hline\n",
       "\t& String & Int64\\\\\n",
       "\t\\hline\n",
       "\t1 & Marcos & 30 \\\\\n",
       "\t2 & Silvana & 35 \\\\\n",
       "\\end{tabular}\n"
      ],
      "text/plain": [
       "2×2 DataFrame\n",
       "│ Row │ nombre  │ edad  │\n",
       "│     │ \u001b[90mString\u001b[39m  │ \u001b[90mInt64\u001b[39m │\n",
       "├─────┼─────────┼───────┤\n",
       "│ 1   │ Marcos  │ 30    │\n",
       "│ 2   │ Silvana │ 35    │"
      ]
     },
     "execution_count": 193,
     "metadata": {},
     "output_type": "execute_result"
    }
   ],
   "source": [
    "push!(df, (\"Silvana\", 35))"
   ]
  },
  {
   "cell_type": "code",
   "execution_count": 194,
   "metadata": {},
   "outputs": [
    {
     "data": {
      "text/html": [
       "<table class=\"data-frame\"><thead><tr><th></th><th>nombre</th><th>edad</th></tr><tr><th></th><th>String</th><th>Int64</th></tr></thead><tbody><p>2 rows × 2 columns</p><tr><th>1</th><td>Marcos</td><td>30</td></tr><tr><th>2</th><td>Silvana</td><td>35</td></tr></tbody></table>"
      ],
      "text/latex": [
       "\\begin{tabular}{r|cc}\n",
       "\t& nombre & edad\\\\\n",
       "\t\\hline\n",
       "\t& String & Int64\\\\\n",
       "\t\\hline\n",
       "\t1 & Marcos & 30 \\\\\n",
       "\t2 & Silvana & 35 \\\\\n",
       "\\end{tabular}\n"
      ],
      "text/plain": [
       "2×2 DataFrame\n",
       "│ Row │ nombre  │ edad  │\n",
       "│     │ \u001b[90mString\u001b[39m  │ \u001b[90mInt64\u001b[39m │\n",
       "├─────┼─────────┼───────┤\n",
       "│ 1   │ Marcos  │ 30    │\n",
       "│ 2   │ Silvana │ 35    │"
      ]
     },
     "execution_count": 194,
     "metadata": {},
     "output_type": "execute_result"
    }
   ],
   "source": [
    "df"
   ]
  },
  {
   "cell_type": "code",
   "execution_count": 195,
   "metadata": {},
   "outputs": [
    {
     "data": {
      "text/html": [
       "<table class=\"data-frame\"><thead><tr><th></th><th>nombre</th><th>edad</th></tr><tr><th></th><th>String</th><th>Int64</th></tr></thead><tbody><p>3 rows × 2 columns</p><tr><th>1</th><td>Marcos</td><td>30</td></tr><tr><th>2</th><td>Silvana</td><td>35</td></tr><tr><th>3</th><td>Alejandro</td><td>34</td></tr></tbody></table>"
      ],
      "text/latex": [
       "\\begin{tabular}{r|cc}\n",
       "\t& nombre & edad\\\\\n",
       "\t\\hline\n",
       "\t& String & Int64\\\\\n",
       "\t\\hline\n",
       "\t1 & Marcos & 30 \\\\\n",
       "\t2 & Silvana & 35 \\\\\n",
       "\t3 & Alejandro & 34 \\\\\n",
       "\\end{tabular}\n"
      ],
      "text/plain": [
       "3×2 DataFrame\n",
       "│ Row │ nombre    │ edad  │\n",
       "│     │ \u001b[90mString\u001b[39m    │ \u001b[90mInt64\u001b[39m │\n",
       "├─────┼───────────┼───────┤\n",
       "│ 1   │ Marcos    │ 30    │\n",
       "│ 2   │ Silvana   │ 35    │\n",
       "│ 3   │ Alejandro │ 34    │"
      ]
     },
     "execution_count": 195,
     "metadata": {},
     "output_type": "execute_result"
    }
   ],
   "source": [
    "# tambien puedo agregar una fila nueva usando un diccionario\n",
    "push!(df, Dict(:nombre => \"Alejandro\", :edad => 34))"
   ]
  },
  {
   "cell_type": "code",
   "execution_count": 76,
   "metadata": {},
   "outputs": [
    {
     "data": {
      "text/html": [
       "<table class=\"data-frame\"><thead><tr><th></th><th>nombre</th><th>edad</th></tr><tr><th></th><th>String</th><th>Int64</th></tr></thead><tbody><p>3 rows × 2 columns</p><tr><th>1</th><td>Marcos</td><td>30</td></tr><tr><th>2</th><td>Silvana</td><td>35</td></tr><tr><th>3</th><td>Alejandro</td><td>34</td></tr></tbody></table>"
      ],
      "text/latex": [
       "\\begin{tabular}{r|cc}\n",
       "\t& nombre & edad\\\\\n",
       "\t\\hline\n",
       "\t& String & Int64\\\\\n",
       "\t\\hline\n",
       "\t1 & Marcos & 30 \\\\\n",
       "\t2 & Silvana & 35 \\\\\n",
       "\t3 & Alejandro & 34 \\\\\n",
       "\\end{tabular}\n"
      ],
      "text/plain": [
       "3×2 DataFrame\n",
       "│ Row │ nombre    │ edad  │\n",
       "│     │ \u001b[90mString\u001b[39m    │ \u001b[90mInt64\u001b[39m │\n",
       "├─────┼───────────┼───────┤\n",
       "│ 1   │ Marcos    │ 30    │\n",
       "│ 2   │ Silvana   │ 35    │\n",
       "│ 3   │ Alejandro │ 34    │"
      ]
     },
     "execution_count": 76,
     "metadata": {},
     "output_type": "execute_result"
    }
   ],
   "source": [
    "df"
   ]
  },
  {
   "cell_type": "markdown",
   "metadata": {},
   "source": [
    "Comentario: construir un data frame fila por fila es mas ineficiente respecto a construirlo columna por columna."
   ]
  },
  {
   "cell_type": "markdown",
   "metadata": {},
   "source": [
    "# Cargando datos de un archivo"
   ]
  },
  {
   "cell_type": "code",
   "execution_count": 196,
   "metadata": {},
   "outputs": [],
   "source": [
    "using DataFrames, CSV"
   ]
  },
  {
   "cell_type": "code",
   "execution_count": 199,
   "metadata": {},
   "outputs": [
    {
     "data": {
      "text/html": [
       "<table class=\"data-frame\"><thead><tr><th></th><th>company</th><th>body_style</th><th>wheel_base</th><th>length</th><th>engine_type</th><th>num_of_cylinders</th><th>horsepower</th></tr><tr><th></th><th>String</th><th>String</th><th>Float64</th><th>Float64</th><th>String</th><th>String</th><th>Int64</th></tr></thead><tbody><p>61 rows × 9 columns (omitted printing of 2 columns)</p><tr><th>1</th><td>alfa-romero</td><td>convertible</td><td>88.6</td><td>168.8</td><td>dohc</td><td>four</td><td>111</td></tr><tr><th>2</th><td>alfa-romero</td><td>convertible</td><td>88.6</td><td>168.8</td><td>dohc</td><td>four</td><td>111</td></tr><tr><th>3</th><td>alfa-romero</td><td>hatchback</td><td>94.5</td><td>171.2</td><td>ohcv</td><td>six</td><td>154</td></tr><tr><th>4</th><td>audi</td><td>sedan</td><td>99.8</td><td>176.6</td><td>ohc</td><td>four</td><td>102</td></tr><tr><th>5</th><td>audi</td><td>sedan</td><td>99.4</td><td>176.6</td><td>ohc</td><td>five</td><td>115</td></tr><tr><th>6</th><td>audi</td><td>sedan</td><td>99.8</td><td>177.3</td><td>ohc</td><td>five</td><td>110</td></tr><tr><th>7</th><td>audi</td><td>wagon</td><td>105.8</td><td>192.7</td><td>ohc</td><td>five</td><td>110</td></tr><tr><th>8</th><td>bmw</td><td>sedan</td><td>101.2</td><td>176.8</td><td>ohc</td><td>four</td><td>101</td></tr><tr><th>9</th><td>bmw</td><td>sedan</td><td>101.2</td><td>176.8</td><td>ohc</td><td>four</td><td>101</td></tr><tr><th>10</th><td>bmw</td><td>sedan</td><td>101.2</td><td>176.8</td><td>ohc</td><td>six</td><td>121</td></tr><tr><th>11</th><td>bmw</td><td>sedan</td><td>103.5</td><td>189.0</td><td>ohc</td><td>six</td><td>182</td></tr><tr><th>12</th><td>bmw</td><td>sedan</td><td>103.5</td><td>193.8</td><td>ohc</td><td>six</td><td>182</td></tr><tr><th>13</th><td>bmw</td><td>sedan</td><td>110.0</td><td>197.0</td><td>ohc</td><td>six</td><td>182</td></tr><tr><th>14</th><td>chevrolet</td><td>hatchback</td><td>88.4</td><td>141.1</td><td>l</td><td>three</td><td>48</td></tr><tr><th>15</th><td>chevrolet</td><td>hatchback</td><td>94.5</td><td>155.9</td><td>ohc</td><td>four</td><td>70</td></tr><tr><th>16</th><td>chevrolet</td><td>sedan</td><td>94.5</td><td>158.8</td><td>ohc</td><td>four</td><td>70</td></tr><tr><th>17</th><td>dodge</td><td>hatchback</td><td>93.7</td><td>157.3</td><td>ohc</td><td>four</td><td>68</td></tr><tr><th>18</th><td>dodge</td><td>hatchback</td><td>93.7</td><td>157.3</td><td>ohc</td><td>four</td><td>68</td></tr><tr><th>19</th><td>honda</td><td>wagon</td><td>96.5</td><td>157.1</td><td>ohc</td><td>four</td><td>76</td></tr><tr><th>20</th><td>honda</td><td>sedan</td><td>96.5</td><td>175.4</td><td>ohc</td><td>four</td><td>101</td></tr><tr><th>21</th><td>honda</td><td>sedan</td><td>96.5</td><td>169.1</td><td>ohc</td><td>four</td><td>100</td></tr><tr><th>22</th><td>isuzu</td><td>sedan</td><td>94.3</td><td>170.7</td><td>ohc</td><td>four</td><td>78</td></tr><tr><th>23</th><td>isuzu</td><td>sedan</td><td>94.5</td><td>155.9</td><td>ohc</td><td>four</td><td>70</td></tr><tr><th>24</th><td>isuzu</td><td>sedan</td><td>94.5</td><td>155.9</td><td>ohc</td><td>four</td><td>70</td></tr><tr><th>25</th><td>jaguar</td><td>sedan</td><td>113.0</td><td>199.6</td><td>dohc</td><td>six</td><td>176</td></tr><tr><th>26</th><td>jaguar</td><td>sedan</td><td>113.0</td><td>199.6</td><td>dohc</td><td>six</td><td>176</td></tr><tr><th>27</th><td>jaguar</td><td>sedan</td><td>102.0</td><td>191.7</td><td>ohcv</td><td>twelve</td><td>262</td></tr><tr><th>28</th><td>mazda</td><td>hatchback</td><td>93.1</td><td>159.1</td><td>ohc</td><td>four</td><td>68</td></tr><tr><th>29</th><td>mazda</td><td>hatchback</td><td>93.1</td><td>159.1</td><td>ohc</td><td>four</td><td>68</td></tr><tr><th>30</th><td>mazda</td><td>hatchback</td><td>93.1</td><td>159.1</td><td>ohc</td><td>four</td><td>68</td></tr><tr><th>&vellip;</th><td>&vellip;</td><td>&vellip;</td><td>&vellip;</td><td>&vellip;</td><td>&vellip;</td><td>&vellip;</td><td>&vellip;</td></tr></tbody></table>"
      ],
      "text/latex": [
       "\\begin{tabular}{r|cccccccc}\n",
       "\t& company & body\\_style & wheel\\_base & length & engine\\_type & num\\_of\\_cylinders & horsepower & \\\\\n",
       "\t\\hline\n",
       "\t& String & String & Float64 & Float64 & String & String & Int64 & \\\\\n",
       "\t\\hline\n",
       "\t1 & alfa-romero & convertible & 88.6 & 168.8 & dohc & four & 111 & $\\dots$ \\\\\n",
       "\t2 & alfa-romero & convertible & 88.6 & 168.8 & dohc & four & 111 & $\\dots$ \\\\\n",
       "\t3 & alfa-romero & hatchback & 94.5 & 171.2 & ohcv & six & 154 & $\\dots$ \\\\\n",
       "\t4 & audi & sedan & 99.8 & 176.6 & ohc & four & 102 & $\\dots$ \\\\\n",
       "\t5 & audi & sedan & 99.4 & 176.6 & ohc & five & 115 & $\\dots$ \\\\\n",
       "\t6 & audi & sedan & 99.8 & 177.3 & ohc & five & 110 & $\\dots$ \\\\\n",
       "\t7 & audi & wagon & 105.8 & 192.7 & ohc & five & 110 & $\\dots$ \\\\\n",
       "\t8 & bmw & sedan & 101.2 & 176.8 & ohc & four & 101 & $\\dots$ \\\\\n",
       "\t9 & bmw & sedan & 101.2 & 176.8 & ohc & four & 101 & $\\dots$ \\\\\n",
       "\t10 & bmw & sedan & 101.2 & 176.8 & ohc & six & 121 & $\\dots$ \\\\\n",
       "\t11 & bmw & sedan & 103.5 & 189.0 & ohc & six & 182 & $\\dots$ \\\\\n",
       "\t12 & bmw & sedan & 103.5 & 193.8 & ohc & six & 182 & $\\dots$ \\\\\n",
       "\t13 & bmw & sedan & 110.0 & 197.0 & ohc & six & 182 & $\\dots$ \\\\\n",
       "\t14 & chevrolet & hatchback & 88.4 & 141.1 & l & three & 48 & $\\dots$ \\\\\n",
       "\t15 & chevrolet & hatchback & 94.5 & 155.9 & ohc & four & 70 & $\\dots$ \\\\\n",
       "\t16 & chevrolet & sedan & 94.5 & 158.8 & ohc & four & 70 & $\\dots$ \\\\\n",
       "\t17 & dodge & hatchback & 93.7 & 157.3 & ohc & four & 68 & $\\dots$ \\\\\n",
       "\t18 & dodge & hatchback & 93.7 & 157.3 & ohc & four & 68 & $\\dots$ \\\\\n",
       "\t19 & honda & wagon & 96.5 & 157.1 & ohc & four & 76 & $\\dots$ \\\\\n",
       "\t20 & honda & sedan & 96.5 & 175.4 & ohc & four & 101 & $\\dots$ \\\\\n",
       "\t21 & honda & sedan & 96.5 & 169.1 & ohc & four & 100 & $\\dots$ \\\\\n",
       "\t22 & isuzu & sedan & 94.3 & 170.7 & ohc & four & 78 & $\\dots$ \\\\\n",
       "\t23 & isuzu & sedan & 94.5 & 155.9 & ohc & four & 70 & $\\dots$ \\\\\n",
       "\t24 & isuzu & sedan & 94.5 & 155.9 & ohc & four & 70 & $\\dots$ \\\\\n",
       "\t25 & jaguar & sedan & 113.0 & 199.6 & dohc & six & 176 & $\\dots$ \\\\\n",
       "\t26 & jaguar & sedan & 113.0 & 199.6 & dohc & six & 176 & $\\dots$ \\\\\n",
       "\t27 & jaguar & sedan & 102.0 & 191.7 & ohcv & twelve & 262 & $\\dots$ \\\\\n",
       "\t28 & mazda & hatchback & 93.1 & 159.1 & ohc & four & 68 & $\\dots$ \\\\\n",
       "\t29 & mazda & hatchback & 93.1 & 159.1 & ohc & four & 68 & $\\dots$ \\\\\n",
       "\t30 & mazda & hatchback & 93.1 & 159.1 & ohc & four & 68 & $\\dots$ \\\\\n",
       "\t$\\dots$ & $\\dots$ & $\\dots$ & $\\dots$ & $\\dots$ & $\\dots$ & $\\dots$ & $\\dots$ &  \\\\\n",
       "\\end{tabular}\n"
      ],
      "text/plain": [
       "61×9 DataFrame. Omitted printing of 4 columns\n",
       "│ Row │ company     │ body_style  │ wheel_base │ length  │ engine_type │\n",
       "│     │ \u001b[90mString\u001b[39m      │ \u001b[90mString\u001b[39m      │ \u001b[90mFloat64\u001b[39m    │ \u001b[90mFloat64\u001b[39m │ \u001b[90mString\u001b[39m      │\n",
       "├─────┼─────────────┼─────────────┼────────────┼─────────┼─────────────┤\n",
       "│ 1   │ alfa-romero │ convertible │ 88.6       │ 168.8   │ dohc        │\n",
       "│ 2   │ alfa-romero │ convertible │ 88.6       │ 168.8   │ dohc        │\n",
       "│ 3   │ alfa-romero │ hatchback   │ 94.5       │ 171.2   │ ohcv        │\n",
       "│ 4   │ audi        │ sedan       │ 99.8       │ 176.6   │ ohc         │\n",
       "│ 5   │ audi        │ sedan       │ 99.4       │ 176.6   │ ohc         │\n",
       "│ 6   │ audi        │ sedan       │ 99.8       │ 177.3   │ ohc         │\n",
       "│ 7   │ audi        │ wagon       │ 105.8      │ 192.7   │ ohc         │\n",
       "│ 8   │ bmw         │ sedan       │ 101.2      │ 176.8   │ ohc         │\n",
       "│ 9   │ bmw         │ sedan       │ 101.2      │ 176.8   │ ohc         │\n",
       "│ 10  │ bmw         │ sedan       │ 101.2      │ 176.8   │ ohc         │\n",
       "⋮\n",
       "│ 51  │ toyota      │ hatchback   │ 95.7       │ 158.7   │ ohc         │\n",
       "│ 52  │ toyota      │ wagon       │ 95.7       │ 169.7   │ ohc         │\n",
       "│ 53  │ toyota      │ wagon       │ 95.7       │ 169.7   │ ohc         │\n",
       "│ 54  │ toyota      │ wagon       │ 95.7       │ 169.7   │ ohc         │\n",
       "│ 55  │ toyota      │ wagon       │ 104.5      │ 187.8   │ dohc        │\n",
       "│ 56  │ volkswagen  │ sedan       │ 97.3       │ 171.7   │ ohc         │\n",
       "│ 57  │ volkswagen  │ sedan       │ 97.3       │ 171.7   │ ohc         │\n",
       "│ 58  │ volkswagen  │ sedan       │ 97.3       │ 171.7   │ ohc         │\n",
       "│ 59  │ volkswagen  │ sedan       │ 97.3       │ 171.7   │ ohc         │\n",
       "│ 60  │ volvo       │ sedan       │ 104.3      │ 188.8   │ ohc         │\n",
       "│ 61  │ volvo       │ wagon       │ 104.3      │ 188.8   │ ohc         │"
      ]
     },
     "execution_count": 199,
     "metadata": {},
     "output_type": "execute_result"
    }
   ],
   "source": [
    "autos = CSV.read(\"automobile_data.csv\")"
   ]
  },
  {
   "cell_type": "code",
   "execution_count": null,
   "metadata": {},
   "outputs": [],
   "source": [
    "# por defecto, DataFrames muestra una cantidad de elementos que entra ne la plantalla\n",
    "# lo puedo cambiar de usando show"
   ]
  },
  {
   "cell_type": "code",
   "execution_count": 203,
   "metadata": {},
   "outputs": [
    {
     "name": "stdout",
     "output_type": "stream",
     "text": [
      "61×9 DataFrame\n",
      "│ Row │ company       │ body_style  │ wheel_base │ length  │ engine_type │\n",
      "│     │ \u001b[90mString\u001b[39m        │ \u001b[90mString\u001b[39m      │ \u001b[90mFloat64\u001b[39m    │ \u001b[90mFloat64\u001b[39m │ \u001b[90mString\u001b[39m      │\n",
      "├─────┼───────────────┼─────────────┼────────────┼─────────┼─────────────┤\n",
      "│ 1   │ alfa-romero   │ convertible │ 88.6       │ 168.8   │ dohc        │\n",
      "│ 2   │ alfa-romero   │ convertible │ 88.6       │ 168.8   │ dohc        │\n",
      "│ 3   │ alfa-romero   │ hatchback   │ 94.5       │ 171.2   │ ohcv        │\n",
      "│ 4   │ audi          │ sedan       │ 99.8       │ 176.6   │ ohc         │\n",
      "│ 5   │ audi          │ sedan       │ 99.4       │ 176.6   │ ohc         │\n",
      "│ 6   │ audi          │ sedan       │ 99.8       │ 177.3   │ ohc         │\n",
      "│ 7   │ audi          │ wagon       │ 105.8      │ 192.7   │ ohc         │\n",
      "│ 8   │ bmw           │ sedan       │ 101.2      │ 176.8   │ ohc         │\n",
      "│ 9   │ bmw           │ sedan       │ 101.2      │ 176.8   │ ohc         │\n",
      "│ 10  │ bmw           │ sedan       │ 101.2      │ 176.8   │ ohc         │\n",
      "│ 11  │ bmw           │ sedan       │ 103.5      │ 189.0   │ ohc         │\n",
      "│ 12  │ bmw           │ sedan       │ 103.5      │ 193.8   │ ohc         │\n",
      "│ 13  │ bmw           │ sedan       │ 110.0      │ 197.0   │ ohc         │\n",
      "│ 14  │ chevrolet     │ hatchback   │ 88.4       │ 141.1   │ l           │\n",
      "│ 15  │ chevrolet     │ hatchback   │ 94.5       │ 155.9   │ ohc         │\n",
      "│ 16  │ chevrolet     │ sedan       │ 94.5       │ 158.8   │ ohc         │\n",
      "│ 17  │ dodge         │ hatchback   │ 93.7       │ 157.3   │ ohc         │\n",
      "│ 18  │ dodge         │ hatchback   │ 93.7       │ 157.3   │ ohc         │\n",
      "│ 19  │ honda         │ wagon       │ 96.5       │ 157.1   │ ohc         │\n",
      "│ 20  │ honda         │ sedan       │ 96.5       │ 175.4   │ ohc         │\n",
      "│ 21  │ honda         │ sedan       │ 96.5       │ 169.1   │ ohc         │\n",
      "│ 22  │ isuzu         │ sedan       │ 94.3       │ 170.7   │ ohc         │\n",
      "│ 23  │ isuzu         │ sedan       │ 94.5       │ 155.9   │ ohc         │\n",
      "│ 24  │ isuzu         │ sedan       │ 94.5       │ 155.9   │ ohc         │\n",
      "│ 25  │ jaguar        │ sedan       │ 113.0      │ 199.6   │ dohc        │\n",
      "│ 26  │ jaguar        │ sedan       │ 113.0      │ 199.6   │ dohc        │\n",
      "│ 27  │ jaguar        │ sedan       │ 102.0      │ 191.7   │ ohcv        │\n",
      "│ 28  │ mazda         │ hatchback   │ 93.1       │ 159.1   │ ohc         │\n",
      "│ 29  │ mazda         │ hatchback   │ 93.1       │ 159.1   │ ohc         │\n",
      "│ 30  │ mazda         │ hatchback   │ 93.1       │ 159.1   │ ohc         │\n",
      "│ 31  │ mazda         │ hatchback   │ 95.3       │ 169.0   │ rotor       │\n",
      "│ 32  │ mazda         │ sedan       │ 104.9      │ 175.0   │ ohc         │\n",
      "│ 33  │ mercedes-benz │ sedan       │ 110.0      │ 190.9   │ ohc         │\n",
      "│ 34  │ mercedes-benz │ wagon       │ 110.0      │ 190.9   │ ohc         │\n",
      "│ 35  │ mercedes-benz │ sedan       │ 120.9      │ 208.1   │ ohcv        │\n",
      "│ 36  │ mercedes-benz │ hardtop     │ 112.0      │ 199.2   │ ohcv        │\n",
      "│ 37  │ mitsubishi    │ hatchback   │ 93.7       │ 157.3   │ ohc         │\n",
      "│ 38  │ mitsubishi    │ hatchback   │ 93.7       │ 157.3   │ ohc         │\n",
      "│ 39  │ mitsubishi    │ sedan       │ 96.3       │ 172.4   │ ohc         │\n",
      "│ 40  │ mitsubishi    │ sedan       │ 96.3       │ 172.4   │ ohc         │\n",
      "│ 41  │ nissan        │ sedan       │ 94.5       │ 165.3   │ ohc         │\n",
      "│ 42  │ nissan        │ sedan       │ 94.5       │ 165.3   │ ohc         │\n",
      "│ 43  │ nissan        │ sedan       │ 94.5       │ 165.3   │ ohc         │\n",
      "│ 44  │ nissan        │ wagon       │ 94.5       │ 170.2   │ ohc         │\n",
      "│ 45  │ nissan        │ sedan       │ 100.4      │ 184.6   │ ohcv        │\n",
      "│ 46  │ porsche       │ hardtop     │ 89.5       │ 168.9   │ ohcf        │\n",
      "│ 47  │ porsche       │ convertible │ 89.5       │ 168.9   │ ohcf        │\n",
      "│ 48  │ porsche       │ hatchback   │ 98.4       │ 175.7   │ dohcv       │\n",
      "│ 49  │ toyota        │ hatchback   │ 95.7       │ 158.7   │ ohc         │\n",
      "│ 50  │ toyota        │ hatchback   │ 95.7       │ 158.7   │ ohc         │\n",
      "│ 51  │ toyota        │ hatchback   │ 95.7       │ 158.7   │ ohc         │\n",
      "│ 52  │ toyota        │ wagon       │ 95.7       │ 169.7   │ ohc         │\n",
      "│ 53  │ toyota        │ wagon       │ 95.7       │ 169.7   │ ohc         │\n",
      "│ 54  │ toyota        │ wagon       │ 95.7       │ 169.7   │ ohc         │\n",
      "│ 55  │ toyota        │ wagon       │ 104.5      │ 187.8   │ dohc        │\n",
      "│ 56  │ volkswagen    │ sedan       │ 97.3       │ 171.7   │ ohc         │\n",
      "│ 57  │ volkswagen    │ sedan       │ 97.3       │ 171.7   │ ohc         │\n",
      "│ 58  │ volkswagen    │ sedan       │ 97.3       │ 171.7   │ ohc         │\n",
      "│ 59  │ volkswagen    │ sedan       │ 97.3       │ 171.7   │ ohc         │\n",
      "│ 60  │ volvo         │ sedan       │ 104.3      │ 188.8   │ ohc         │\n",
      "│ 61  │ volvo         │ wagon       │ 104.3      │ 188.8   │ ohc         │\n",
      "\n",
      "│ Row │ num_of_cylinders │ horsepower │ average_mileage │ price   │\n",
      "│     │ \u001b[90mString\u001b[39m           │ \u001b[90mInt64\u001b[39m      │ \u001b[90mInt64\u001b[39m           │ \u001b[90mInt64⍰\u001b[39m  │\n",
      "├─────┼──────────────────┼────────────┼─────────────────┼─────────┤\n",
      "│ 1   │ four             │ 111        │ 21              │ 13495   │\n",
      "│ 2   │ four             │ 111        │ 21              │ 16500   │\n",
      "│ 3   │ six              │ 154        │ 19              │ 16500   │\n",
      "│ 4   │ four             │ 102        │ 24              │ 13950   │\n",
      "│ 5   │ five             │ 115        │ 18              │ 17450   │\n",
      "│ 6   │ five             │ 110        │ 19              │ 15250   │\n",
      "│ 7   │ five             │ 110        │ 19              │ 18920   │\n",
      "│ 8   │ four             │ 101        │ 23              │ 16430   │\n",
      "│ 9   │ four             │ 101        │ 23              │ 16925   │\n",
      "│ 10  │ six              │ 121        │ 21              │ 20970   │\n",
      "│ 11  │ six              │ 182        │ 16              │ 30760   │\n",
      "│ 12  │ six              │ 182        │ 16              │ 41315   │\n",
      "│ 13  │ six              │ 182        │ 15              │ 36880   │\n",
      "│ 14  │ three            │ 48         │ 47              │ 5151    │\n",
      "│ 15  │ four             │ 70         │ 38              │ 6295    │\n",
      "│ 16  │ four             │ 70         │ 38              │ 6575    │\n",
      "│ 17  │ four             │ 68         │ 31              │ 6377    │\n",
      "│ 18  │ four             │ 68         │ 31              │ 6229    │\n",
      "│ 19  │ four             │ 76         │ 30              │ 7295    │\n",
      "│ 20  │ four             │ 101        │ 24              │ 12945   │\n",
      "│ 21  │ four             │ 100        │ 25              │ 10345   │\n",
      "│ 22  │ four             │ 78         │ 24              │ 6785    │\n",
      "│ 23  │ four             │ 70         │ 38              │ \u001b[90mmissing\u001b[39m │\n",
      "│ 24  │ four             │ 70         │ 38              │ \u001b[90mmissing\u001b[39m │\n",
      "│ 25  │ six              │ 176        │ 15              │ 32250   │\n",
      "│ 26  │ six              │ 176        │ 15              │ 35550   │\n",
      "│ 27  │ twelve           │ 262        │ 13              │ 36000   │\n",
      "│ 28  │ four             │ 68         │ 30              │ 5195    │\n",
      "│ 29  │ four             │ 68         │ 31              │ 6095    │\n",
      "│ 30  │ four             │ 68         │ 31              │ 6795    │\n",
      "│ 31  │ two              │ 101        │ 17              │ 11845   │\n",
      "│ 32  │ four             │ 72         │ 31              │ 18344   │\n",
      "│ 33  │ five             │ 123        │ 22              │ 25552   │\n",
      "│ 34  │ five             │ 123        │ 22              │ 28248   │\n",
      "│ 35  │ eight            │ 184        │ 14              │ 40960   │\n",
      "│ 36  │ eight            │ 184        │ 14              │ 45400   │\n",
      "│ 37  │ four             │ 68         │ 37              │ 5389    │\n",
      "│ 38  │ four             │ 68         │ 31              │ 6189    │\n",
      "│ 39  │ four             │ 88         │ 25              │ 6989    │\n",
      "│ 40  │ four             │ 88         │ 25              │ 8189    │\n",
      "│ 41  │ four             │ 55         │ 45              │ 7099    │\n",
      "│ 42  │ four             │ 69         │ 31              │ 6649    │\n",
      "│ 43  │ four             │ 69         │ 31              │ 6849    │\n",
      "│ 44  │ four             │ 69         │ 31              │ 7349    │\n",
      "│ 45  │ six              │ 152        │ 19              │ 13499   │\n",
      "│ 46  │ six              │ 207        │ 17              │ 34028   │\n",
      "│ 47  │ six              │ 207        │ 17              │ 37028   │\n",
      "│ 48  │ eight            │ 288        │ 17              │ \u001b[90mmissing\u001b[39m │\n",
      "│ 49  │ four             │ 62         │ 35              │ 5348    │\n"
     ]
    },
    {
     "name": "stdout",
     "output_type": "stream",
     "text": [
      "│ 50  │ four             │ 62         │ 31              │ 6338    │\n",
      "│ 51  │ four             │ 62         │ 31              │ 6488    │\n",
      "│ 52  │ four             │ 62         │ 31              │ 6918    │\n",
      "│ 53  │ four             │ 62         │ 27              │ 7898    │\n",
      "│ 54  │ four             │ 62         │ 27              │ 8778    │\n",
      "│ 55  │ six              │ 156        │ 19              │ 15750   │\n",
      "│ 56  │ four             │ 52         │ 37              │ 7775    │\n",
      "│ 57  │ four             │ 85         │ 27              │ 7975    │\n",
      "│ 58  │ four             │ 52         │ 37              │ 7995    │\n",
      "│ 59  │ four             │ 100        │ 26              │ 9995    │\n",
      "│ 60  │ four             │ 114        │ 23              │ 12940   │\n",
      "│ 61  │ four             │ 114        │ 23              │ 13415   │"
     ]
    }
   ],
   "source": [
    "show(autos, allrows=true, allcols=true)"
   ]
  },
  {
   "cell_type": "code",
   "execution_count": 204,
   "metadata": {},
   "outputs": [
    {
     "data": {
      "text/html": [
       "<table class=\"data-frame\"><thead><tr><th></th><th>company</th><th>body_style</th><th>wheel_base</th><th>length</th><th>engine_type</th><th>num_of_cylinders</th><th>horsepower</th></tr><tr><th></th><th>String</th><th>String</th><th>Float64</th><th>Float64</th><th>String</th><th>String</th><th>Int64</th></tr></thead><tbody><p>5 rows × 9 columns (omitted printing of 2 columns)</p><tr><th>1</th><td>alfa-romero</td><td>convertible</td><td>88.6</td><td>168.8</td><td>dohc</td><td>four</td><td>111</td></tr><tr><th>2</th><td>alfa-romero</td><td>convertible</td><td>88.6</td><td>168.8</td><td>dohc</td><td>four</td><td>111</td></tr><tr><th>3</th><td>alfa-romero</td><td>hatchback</td><td>94.5</td><td>171.2</td><td>ohcv</td><td>six</td><td>154</td></tr><tr><th>4</th><td>audi</td><td>sedan</td><td>99.8</td><td>176.6</td><td>ohc</td><td>four</td><td>102</td></tr><tr><th>5</th><td>audi</td><td>sedan</td><td>99.4</td><td>176.6</td><td>ohc</td><td>five</td><td>115</td></tr></tbody></table>"
      ],
      "text/latex": [
       "\\begin{tabular}{r|cccccccc}\n",
       "\t& company & body\\_style & wheel\\_base & length & engine\\_type & num\\_of\\_cylinders & horsepower & \\\\\n",
       "\t\\hline\n",
       "\t& String & String & Float64 & Float64 & String & String & Int64 & \\\\\n",
       "\t\\hline\n",
       "\t1 & alfa-romero & convertible & 88.6 & 168.8 & dohc & four & 111 & $\\dots$ \\\\\n",
       "\t2 & alfa-romero & convertible & 88.6 & 168.8 & dohc & four & 111 & $\\dots$ \\\\\n",
       "\t3 & alfa-romero & hatchback & 94.5 & 171.2 & ohcv & six & 154 & $\\dots$ \\\\\n",
       "\t4 & audi & sedan & 99.8 & 176.6 & ohc & four & 102 & $\\dots$ \\\\\n",
       "\t5 & audi & sedan & 99.4 & 176.6 & ohc & five & 115 & $\\dots$ \\\\\n",
       "\\end{tabular}\n"
      ],
      "text/plain": [
       "5×9 DataFrame. Omitted printing of 4 columns\n",
       "│ Row │ company     │ body_style  │ wheel_base │ length  │ engine_type │\n",
       "│     │ \u001b[90mString\u001b[39m      │ \u001b[90mString\u001b[39m      │ \u001b[90mFloat64\u001b[39m    │ \u001b[90mFloat64\u001b[39m │ \u001b[90mString\u001b[39m      │\n",
       "├─────┼─────────────┼─────────────┼────────────┼─────────┼─────────────┤\n",
       "│ 1   │ alfa-romero │ convertible │ 88.6       │ 168.8   │ dohc        │\n",
       "│ 2   │ alfa-romero │ convertible │ 88.6       │ 168.8   │ dohc        │\n",
       "│ 3   │ alfa-romero │ hatchback   │ 94.5       │ 171.2   │ ohcv        │\n",
       "│ 4   │ audi        │ sedan       │ 99.8       │ 176.6   │ ohc         │\n",
       "│ 5   │ audi        │ sedan       │ 99.4       │ 176.6   │ ohc         │"
      ]
     },
     "execution_count": 204,
     "metadata": {},
     "output_type": "execute_result"
    }
   ],
   "source": [
    "# las funciones first y last reciben un segundo argumento de cuantas filas quiero ver\n",
    "first(autos, 5)"
   ]
  },
  {
   "cell_type": "code",
   "execution_count": 205,
   "metadata": {},
   "outputs": [
    {
     "data": {
      "text/html": [
       "<table class=\"data-frame\"><thead><tr><th></th><th>company</th><th>body_style</th><th>wheel_base</th><th>length</th><th>engine_type</th><th>num_of_cylinders</th><th>horsepower</th></tr><tr><th></th><th>String</th><th>String</th><th>Float64</th><th>Float64</th><th>String</th><th>String</th><th>Int64</th></tr></thead><tbody><p>5 rows × 9 columns (omitted printing of 2 columns)</p><tr><th>1</th><td>volkswagen</td><td>sedan</td><td>97.3</td><td>171.7</td><td>ohc</td><td>four</td><td>85</td></tr><tr><th>2</th><td>volkswagen</td><td>sedan</td><td>97.3</td><td>171.7</td><td>ohc</td><td>four</td><td>52</td></tr><tr><th>3</th><td>volkswagen</td><td>sedan</td><td>97.3</td><td>171.7</td><td>ohc</td><td>four</td><td>100</td></tr><tr><th>4</th><td>volvo</td><td>sedan</td><td>104.3</td><td>188.8</td><td>ohc</td><td>four</td><td>114</td></tr><tr><th>5</th><td>volvo</td><td>wagon</td><td>104.3</td><td>188.8</td><td>ohc</td><td>four</td><td>114</td></tr></tbody></table>"
      ],
      "text/latex": [
       "\\begin{tabular}{r|cccccccc}\n",
       "\t& company & body\\_style & wheel\\_base & length & engine\\_type & num\\_of\\_cylinders & horsepower & \\\\\n",
       "\t\\hline\n",
       "\t& String & String & Float64 & Float64 & String & String & Int64 & \\\\\n",
       "\t\\hline\n",
       "\t1 & volkswagen & sedan & 97.3 & 171.7 & ohc & four & 85 & $\\dots$ \\\\\n",
       "\t2 & volkswagen & sedan & 97.3 & 171.7 & ohc & four & 52 & $\\dots$ \\\\\n",
       "\t3 & volkswagen & sedan & 97.3 & 171.7 & ohc & four & 100 & $\\dots$ \\\\\n",
       "\t4 & volvo & sedan & 104.3 & 188.8 & ohc & four & 114 & $\\dots$ \\\\\n",
       "\t5 & volvo & wagon & 104.3 & 188.8 & ohc & four & 114 & $\\dots$ \\\\\n",
       "\\end{tabular}\n"
      ],
      "text/plain": [
       "5×9 DataFrame. Omitted printing of 4 columns\n",
       "│ Row │ company    │ body_style │ wheel_base │ length  │ engine_type │\n",
       "│     │ \u001b[90mString\u001b[39m     │ \u001b[90mString\u001b[39m     │ \u001b[90mFloat64\u001b[39m    │ \u001b[90mFloat64\u001b[39m │ \u001b[90mString\u001b[39m      │\n",
       "├─────┼────────────┼────────────┼────────────┼─────────┼─────────────┤\n",
       "│ 1   │ volkswagen │ sedan      │ 97.3       │ 171.7   │ ohc         │\n",
       "│ 2   │ volkswagen │ sedan      │ 97.3       │ 171.7   │ ohc         │\n",
       "│ 3   │ volkswagen │ sedan      │ 97.3       │ 171.7   │ ohc         │\n",
       "│ 4   │ volvo      │ sedan      │ 104.3      │ 188.8   │ ohc         │\n",
       "│ 5   │ volvo      │ wagon      │ 104.3      │ 188.8   │ ohc         │"
      ]
     },
     "execution_count": 205,
     "metadata": {},
     "output_type": "execute_result"
    }
   ],
   "source": [
    "last(autos, 5)"
   ]
  },
  {
   "cell_type": "markdown",
   "metadata": {},
   "source": [
    "## Trabajando con data frames"
   ]
  },
  {
   "cell_type": "code",
   "execution_count": 208,
   "metadata": {},
   "outputs": [
    {
     "data": {
      "text/html": [
       "<table class=\"data-frame\"><thead><tr><th></th><th>company</th><th>body_style</th><th>wheel_base</th><th>length</th><th>engine_type</th><th>num_of_cylinders</th><th>horsepower</th></tr><tr><th></th><th>String</th><th>String</th><th>Float64</th><th>Float64</th><th>String</th><th>String</th><th>Int64</th></tr></thead><tbody><p>3 rows × 9 columns (omitted printing of 2 columns)</p><tr><th>1</th><td>alfa-romero</td><td>convertible</td><td>88.6</td><td>168.8</td><td>dohc</td><td>four</td><td>111</td></tr><tr><th>2</th><td>alfa-romero</td><td>convertible</td><td>88.6</td><td>168.8</td><td>dohc</td><td>four</td><td>111</td></tr><tr><th>3</th><td>alfa-romero</td><td>hatchback</td><td>94.5</td><td>171.2</td><td>ohcv</td><td>six</td><td>154</td></tr></tbody></table>"
      ],
      "text/latex": [
       "\\begin{tabular}{r|cccccccc}\n",
       "\t& company & body\\_style & wheel\\_base & length & engine\\_type & num\\_of\\_cylinders & horsepower & \\\\\n",
       "\t\\hline\n",
       "\t& String & String & Float64 & Float64 & String & String & Int64 & \\\\\n",
       "\t\\hline\n",
       "\t1 & alfa-romero & convertible & 88.6 & 168.8 & dohc & four & 111 & $\\dots$ \\\\\n",
       "\t2 & alfa-romero & convertible & 88.6 & 168.8 & dohc & four & 111 & $\\dots$ \\\\\n",
       "\t3 & alfa-romero & hatchback & 94.5 & 171.2 & ohcv & six & 154 & $\\dots$ \\\\\n",
       "\\end{tabular}\n"
      ],
      "text/plain": [
       "3×9 DataFrame. Omitted printing of 4 columns\n",
       "│ Row │ company     │ body_style  │ wheel_base │ length  │ engine_type │\n",
       "│     │ \u001b[90mString\u001b[39m      │ \u001b[90mString\u001b[39m      │ \u001b[90mFloat64\u001b[39m    │ \u001b[90mFloat64\u001b[39m │ \u001b[90mString\u001b[39m      │\n",
       "├─────┼─────────────┼─────────────┼────────────┼─────────┼─────────────┤\n",
       "│ 1   │ alfa-romero │ convertible │ 88.6       │ 168.8   │ dohc        │\n",
       "│ 2   │ alfa-romero │ convertible │ 88.6       │ 168.8   │ dohc        │\n",
       "│ 3   │ alfa-romero │ hatchback   │ 94.5       │ 171.2   │ ohcv        │"
      ]
     },
     "execution_count": 208,
     "metadata": {},
     "output_type": "execute_result"
    }
   ],
   "source": [
    "# slicing\n",
    "autos[1:3, :]"
   ]
  },
  {
   "cell_type": "code",
   "execution_count": 214,
   "metadata": {},
   "outputs": [
    {
     "data": {
      "text/plain": [
       "UnitRange{Int64}"
      ]
     },
     "execution_count": 214,
     "metadata": {},
     "output_type": "execute_result"
    }
   ],
   "source": [
    "typeof(1:10)"
   ]
  },
  {
   "cell_type": "code",
   "execution_count": 213,
   "metadata": {},
   "outputs": [
    {
     "data": {
      "text/plain": [
       "StepRange{Int64,Int64}"
      ]
     },
     "execution_count": 213,
     "metadata": {},
     "output_type": "execute_result"
    }
   ],
   "source": [
    "typeof(1:10:100)"
   ]
  },
  {
   "cell_type": "code",
   "execution_count": 215,
   "metadata": {},
   "outputs": [
    {
     "data": {
      "text/plain": [
       "Array{Int64,1}"
      ]
     },
     "execution_count": 215,
     "metadata": {},
     "output_type": "execute_result"
    }
   ],
   "source": [
    "typeof([1, 6, 10])"
   ]
  },
  {
   "cell_type": "code",
   "execution_count": 85,
   "metadata": {},
   "outputs": [
    {
     "data": {
      "text/html": [
       "<table class=\"data-frame\"><thead><tr><th></th><th>company</th><th>body_style</th><th>wheel_base</th><th>length</th><th>engine_type</th><th>num_of_cylinders</th><th>horsepower</th></tr><tr><th></th><th>String</th><th>String</th><th>Float64</th><th>Float64</th><th>String</th><th>String</th><th>Int64</th></tr></thead><tbody><p>3 rows × 9 columns (omitted printing of 2 columns)</p><tr><th>1</th><td>alfa-romero</td><td>convertible</td><td>88.6</td><td>168.8</td><td>dohc</td><td>four</td><td>111</td></tr><tr><th>2</th><td>audi</td><td>sedan</td><td>99.4</td><td>176.6</td><td>ohc</td><td>five</td><td>115</td></tr><tr><th>3</th><td>bmw</td><td>sedan</td><td>101.2</td><td>176.8</td><td>ohc</td><td>six</td><td>121</td></tr></tbody></table>"
      ],
      "text/latex": [
       "\\begin{tabular}{r|cccccccc}\n",
       "\t& company & body\\_style & wheel\\_base & length & engine\\_type & num\\_of\\_cylinders & horsepower & \\\\\n",
       "\t\\hline\n",
       "\t& String & String & Float64 & Float64 & String & String & Int64 & \\\\\n",
       "\t\\hline\n",
       "\t1 & alfa-romero & convertible & 88.6 & 168.8 & dohc & four & 111 & $\\dots$ \\\\\n",
       "\t2 & audi & sedan & 99.4 & 176.6 & ohc & five & 115 & $\\dots$ \\\\\n",
       "\t3 & bmw & sedan & 101.2 & 176.8 & ohc & six & 121 & $\\dots$ \\\\\n",
       "\\end{tabular}\n"
      ],
      "text/plain": [
       "3×9 DataFrame. Omitted printing of 4 columns\n",
       "│ Row │ company     │ body_style  │ wheel_base │ length  │ engine_type │\n",
       "│     │ \u001b[90mString\u001b[39m      │ \u001b[90mString\u001b[39m      │ \u001b[90mFloat64\u001b[39m    │ \u001b[90mFloat64\u001b[39m │ \u001b[90mString\u001b[39m      │\n",
       "├─────┼─────────────┼─────────────┼────────────┼─────────┼─────────────┤\n",
       "│ 1   │ alfa-romero │ convertible │ 88.6       │ 168.8   │ dohc        │\n",
       "│ 2   │ audi        │ sedan       │ 99.4       │ 176.6   │ ohc         │\n",
       "│ 3   │ bmw         │ sedan       │ 101.2      │ 176.8   │ ohc         │"
      ]
     },
     "execution_count": 85,
     "metadata": {},
     "output_type": "execute_result"
    }
   ],
   "source": [
    "autos[[1, 5, 10], :]"
   ]
  },
  {
   "cell_type": "code",
   "execution_count": 216,
   "metadata": {},
   "outputs": [
    {
     "data": {
      "text/html": [
       "<table class=\"data-frame\"><thead><tr><th></th><th>company</th><th>horsepower</th></tr><tr><th></th><th>String</th><th>Int64</th></tr></thead><tbody><p>3 rows × 2 columns</p><tr><th>1</th><td>alfa-romero</td><td>111</td></tr><tr><th>2</th><td>audi</td><td>115</td></tr><tr><th>3</th><td>bmw</td><td>121</td></tr></tbody></table>"
      ],
      "text/latex": [
       "\\begin{tabular}{r|cc}\n",
       "\t& company & horsepower\\\\\n",
       "\t\\hline\n",
       "\t& String & Int64\\\\\n",
       "\t\\hline\n",
       "\t1 & alfa-romero & 111 \\\\\n",
       "\t2 & audi & 115 \\\\\n",
       "\t3 & bmw & 121 \\\\\n",
       "\\end{tabular}\n"
      ],
      "text/plain": [
       "3×2 DataFrame\n",
       "│ Row │ company     │ horsepower │\n",
       "│     │ \u001b[90mString\u001b[39m      │ \u001b[90mInt64\u001b[39m      │\n",
       "├─────┼─────────────┼────────────┤\n",
       "│ 1   │ alfa-romero │ 111        │\n",
       "│ 2   │ audi        │ 115        │\n",
       "│ 3   │ bmw         │ 121        │"
      ]
     },
     "execution_count": 216,
     "metadata": {},
     "output_type": "execute_result"
    }
   ],
   "source": [
    "# tambien puedo seleccionar solo algunas columnas\n",
    "autos[[1, 5, 10], [:company, :horsepower]]"
   ]
  },
  {
   "cell_type": "code",
   "execution_count": 88,
   "metadata": {},
   "outputs": [
    {
     "data": {
      "text/plain": [
       "61-element CSV.Column{String,String}:\n",
       " \"alfa-romero\"\n",
       " \"alfa-romero\"\n",
       " \"alfa-romero\"\n",
       " \"audi\"       \n",
       " \"audi\"       \n",
       " \"audi\"       \n",
       " \"audi\"       \n",
       " \"bmw\"        \n",
       " \"bmw\"        \n",
       " \"bmw\"        \n",
       " \"bmw\"        \n",
       " \"bmw\"        \n",
       " \"bmw\"        \n",
       " ⋮            \n",
       " \"toyota\"     \n",
       " \"toyota\"     \n",
       " \"toyota\"     \n",
       " \"toyota\"     \n",
       " \"toyota\"     \n",
       " \"toyota\"     \n",
       " \"volkswagen\" \n",
       " \"volkswagen\" \n",
       " \"volkswagen\" \n",
       " \"volkswagen\" \n",
       " \"volvo\"      \n",
       " \"volvo\"      "
      ]
     },
     "execution_count": 88,
     "metadata": {},
     "output_type": "execute_result"
    }
   ],
   "source": [
    "# devuelve un vector\n",
    "autos[!, :company]"
   ]
  },
  {
   "cell_type": "code",
   "execution_count": 89,
   "metadata": {},
   "outputs": [
    {
     "data": {
      "text/html": [
       "<table class=\"data-frame\"><thead><tr><th></th><th>company</th></tr><tr><th></th><th>String</th></tr></thead><tbody><p>61 rows × 1 columns</p><tr><th>1</th><td>alfa-romero</td></tr><tr><th>2</th><td>alfa-romero</td></tr><tr><th>3</th><td>alfa-romero</td></tr><tr><th>4</th><td>audi</td></tr><tr><th>5</th><td>audi</td></tr><tr><th>6</th><td>audi</td></tr><tr><th>7</th><td>audi</td></tr><tr><th>8</th><td>bmw</td></tr><tr><th>9</th><td>bmw</td></tr><tr><th>10</th><td>bmw</td></tr><tr><th>11</th><td>bmw</td></tr><tr><th>12</th><td>bmw</td></tr><tr><th>13</th><td>bmw</td></tr><tr><th>14</th><td>chevrolet</td></tr><tr><th>15</th><td>chevrolet</td></tr><tr><th>16</th><td>chevrolet</td></tr><tr><th>17</th><td>dodge</td></tr><tr><th>18</th><td>dodge</td></tr><tr><th>19</th><td>honda</td></tr><tr><th>20</th><td>honda</td></tr><tr><th>21</th><td>honda</td></tr><tr><th>22</th><td>isuzu</td></tr><tr><th>23</th><td>isuzu</td></tr><tr><th>24</th><td>isuzu</td></tr><tr><th>25</th><td>jaguar</td></tr><tr><th>26</th><td>jaguar</td></tr><tr><th>27</th><td>jaguar</td></tr><tr><th>28</th><td>mazda</td></tr><tr><th>29</th><td>mazda</td></tr><tr><th>30</th><td>mazda</td></tr><tr><th>&vellip;</th><td>&vellip;</td></tr></tbody></table>"
      ],
      "text/latex": [
       "\\begin{tabular}{r|c}\n",
       "\t& company\\\\\n",
       "\t\\hline\n",
       "\t& String\\\\\n",
       "\t\\hline\n",
       "\t1 & alfa-romero \\\\\n",
       "\t2 & alfa-romero \\\\\n",
       "\t3 & alfa-romero \\\\\n",
       "\t4 & audi \\\\\n",
       "\t5 & audi \\\\\n",
       "\t6 & audi \\\\\n",
       "\t7 & audi \\\\\n",
       "\t8 & bmw \\\\\n",
       "\t9 & bmw \\\\\n",
       "\t10 & bmw \\\\\n",
       "\t11 & bmw \\\\\n",
       "\t12 & bmw \\\\\n",
       "\t13 & bmw \\\\\n",
       "\t14 & chevrolet \\\\\n",
       "\t15 & chevrolet \\\\\n",
       "\t16 & chevrolet \\\\\n",
       "\t17 & dodge \\\\\n",
       "\t18 & dodge \\\\\n",
       "\t19 & honda \\\\\n",
       "\t20 & honda \\\\\n",
       "\t21 & honda \\\\\n",
       "\t22 & isuzu \\\\\n",
       "\t23 & isuzu \\\\\n",
       "\t24 & isuzu \\\\\n",
       "\t25 & jaguar \\\\\n",
       "\t26 & jaguar \\\\\n",
       "\t27 & jaguar \\\\\n",
       "\t28 & mazda \\\\\n",
       "\t29 & mazda \\\\\n",
       "\t30 & mazda \\\\\n",
       "\t$\\dots$ & $\\dots$ \\\\\n",
       "\\end{tabular}\n"
      ],
      "text/plain": [
       "61×1 DataFrame\n",
       "│ Row │ company     │\n",
       "│     │ \u001b[90mString\u001b[39m      │\n",
       "├─────┼─────────────┤\n",
       "│ 1   │ alfa-romero │\n",
       "│ 2   │ alfa-romero │\n",
       "│ 3   │ alfa-romero │\n",
       "│ 4   │ audi        │\n",
       "│ 5   │ audi        │\n",
       "│ 6   │ audi        │\n",
       "│ 7   │ audi        │\n",
       "│ 8   │ bmw         │\n",
       "│ 9   │ bmw         │\n",
       "│ 10  │ bmw         │\n",
       "⋮\n",
       "│ 51  │ toyota      │\n",
       "│ 52  │ toyota      │\n",
       "│ 53  │ toyota      │\n",
       "│ 54  │ toyota      │\n",
       "│ 55  │ toyota      │\n",
       "│ 56  │ volkswagen  │\n",
       "│ 57  │ volkswagen  │\n",
       "│ 58  │ volkswagen  │\n",
       "│ 59  │ volkswagen  │\n",
       "│ 60  │ volvo       │\n",
       "│ 61  │ volvo       │"
      ]
     },
     "execution_count": 89,
     "metadata": {},
     "output_type": "execute_result"
    }
   ],
   "source": [
    "# devuelve un data frame\n",
    "autos[!, [:company]]"
   ]
  },
  {
   "cell_type": "markdown",
   "metadata": {},
   "source": [
    "## Indexacion con expresiones regulares"
   ]
  },
  {
   "cell_type": "code",
   "execution_count": 90,
   "metadata": {},
   "outputs": [
    {
     "data": {
      "text/html": [
       "<table class=\"data-frame\"><thead><tr><th></th><th>x1</th><th>x2</th><th>y</th></tr><tr><th></th><th>Int64</th><th>Int64</th><th>Int64</th></tr></thead><tbody><p>1 rows × 3 columns</p><tr><th>1</th><td>1</td><td>2</td><td>3</td></tr></tbody></table>"
      ],
      "text/latex": [
       "\\begin{tabular}{r|ccc}\n",
       "\t& x1 & x2 & y\\\\\n",
       "\t\\hline\n",
       "\t& Int64 & Int64 & Int64\\\\\n",
       "\t\\hline\n",
       "\t1 & 1 & 2 & 3 \\\\\n",
       "\\end{tabular}\n"
      ],
      "text/plain": [
       "1×3 DataFrame\n",
       "│ Row │ x1    │ x2    │ y     │\n",
       "│     │ \u001b[90mInt64\u001b[39m │ \u001b[90mInt64\u001b[39m │ \u001b[90mInt64\u001b[39m │\n",
       "├─────┼───────┼───────┼───────┤\n",
       "│ 1   │ 1     │ 2     │ 3     │"
      ]
     },
     "execution_count": 90,
     "metadata": {},
     "output_type": "execute_result"
    }
   ],
   "source": [
    "df = DataFrame(x1=1, x2=2, y=3)"
   ]
  },
  {
   "cell_type": "code",
   "execution_count": 218,
   "metadata": {},
   "outputs": [
    {
     "data": {
      "text/plain": [
       "Regex"
      ]
     },
     "execution_count": 218,
     "metadata": {},
     "output_type": "execute_result"
    }
   ],
   "source": [
    "typeof(r\"x\")"
   ]
  },
  {
   "cell_type": "markdown",
   "metadata": {},
   "source": [
    "Ver documentacion aqui: https://docs.julialang.org/en/v1/manual/strings/#Regular-Expressions-1"
   ]
  },
  {
   "cell_type": "code",
   "execution_count": 91,
   "metadata": {},
   "outputs": [
    {
     "data": {
      "text/html": [
       "<table class=\"data-frame\"><thead><tr><th></th><th>x1</th><th>x2</th></tr><tr><th></th><th>Int64</th><th>Int64</th></tr></thead><tbody><p>1 rows × 2 columns</p><tr><th>1</th><td>1</td><td>2</td></tr></tbody></table>"
      ],
      "text/latex": [
       "\\begin{tabular}{r|cc}\n",
       "\t& x1 & x2\\\\\n",
       "\t\\hline\n",
       "\t& Int64 & Int64\\\\\n",
       "\t\\hline\n",
       "\t1 & 1 & 2 \\\\\n",
       "\\end{tabular}\n"
      ],
      "text/plain": [
       "1×2 DataFrame\n",
       "│ Row │ x1    │ x2    │\n",
       "│     │ \u001b[90mInt64\u001b[39m │ \u001b[90mInt64\u001b[39m │\n",
       "├─────┼───────┼───────┤\n",
       "│ 1   │ 1     │ 2     │"
      ]
     },
     "execution_count": 91,
     "metadata": {},
     "output_type": "execute_result"
    }
   ],
   "source": [
    "df[!, r\"x\"]"
   ]
  },
  {
   "cell_type": "markdown",
   "metadata": {},
   "source": [
    "# Indexacion logica"
   ]
  },
  {
   "cell_type": "code",
   "execution_count": 92,
   "metadata": {},
   "outputs": [
    {
     "data": {
      "text/html": [
       "<table class=\"data-frame\"><thead><tr><th></th><th>company</th><th>body_style</th><th>wheel_base</th><th>length</th><th>engine_type</th><th>num_of_cylinders</th><th>horsepower</th></tr><tr><th></th><th>String</th><th>String</th><th>Float64</th><th>Float64</th><th>String</th><th>String</th><th>Int64</th></tr></thead><tbody><p>5 rows × 9 columns (omitted printing of 2 columns)</p><tr><th>1</th><td>alfa-romero</td><td>convertible</td><td>88.6</td><td>168.8</td><td>dohc</td><td>four</td><td>111</td></tr><tr><th>2</th><td>alfa-romero</td><td>convertible</td><td>88.6</td><td>168.8</td><td>dohc</td><td>four</td><td>111</td></tr><tr><th>3</th><td>alfa-romero</td><td>hatchback</td><td>94.5</td><td>171.2</td><td>ohcv</td><td>six</td><td>154</td></tr><tr><th>4</th><td>audi</td><td>sedan</td><td>99.8</td><td>176.6</td><td>ohc</td><td>four</td><td>102</td></tr><tr><th>5</th><td>audi</td><td>sedan</td><td>99.4</td><td>176.6</td><td>ohc</td><td>five</td><td>115</td></tr></tbody></table>"
      ],
      "text/latex": [
       "\\begin{tabular}{r|cccccccc}\n",
       "\t& company & body\\_style & wheel\\_base & length & engine\\_type & num\\_of\\_cylinders & horsepower & \\\\\n",
       "\t\\hline\n",
       "\t& String & String & Float64 & Float64 & String & String & Int64 & \\\\\n",
       "\t\\hline\n",
       "\t1 & alfa-romero & convertible & 88.6 & 168.8 & dohc & four & 111 & $\\dots$ \\\\\n",
       "\t2 & alfa-romero & convertible & 88.6 & 168.8 & dohc & four & 111 & $\\dots$ \\\\\n",
       "\t3 & alfa-romero & hatchback & 94.5 & 171.2 & ohcv & six & 154 & $\\dots$ \\\\\n",
       "\t4 & audi & sedan & 99.8 & 176.6 & ohc & four & 102 & $\\dots$ \\\\\n",
       "\t5 & audi & sedan & 99.4 & 176.6 & ohc & five & 115 & $\\dots$ \\\\\n",
       "\\end{tabular}\n"
      ],
      "text/plain": [
       "5×9 DataFrame. Omitted printing of 4 columns\n",
       "│ Row │ company     │ body_style  │ wheel_base │ length  │ engine_type │\n",
       "│     │ \u001b[90mString\u001b[39m      │ \u001b[90mString\u001b[39m      │ \u001b[90mFloat64\u001b[39m    │ \u001b[90mFloat64\u001b[39m │ \u001b[90mString\u001b[39m      │\n",
       "├─────┼─────────────┼─────────────┼────────────┼─────────┼─────────────┤\n",
       "│ 1   │ alfa-romero │ convertible │ 88.6       │ 168.8   │ dohc        │\n",
       "│ 2   │ alfa-romero │ convertible │ 88.6       │ 168.8   │ dohc        │\n",
       "│ 3   │ alfa-romero │ hatchback   │ 94.5       │ 171.2   │ ohcv        │\n",
       "│ 4   │ audi        │ sedan       │ 99.8       │ 176.6   │ ohc         │\n",
       "│ 5   │ audi        │ sedan       │ 99.4       │ 176.6   │ ohc         │"
      ]
     },
     "execution_count": 92,
     "metadata": {},
     "output_type": "execute_result"
    }
   ],
   "source": [
    "first(autos, 5)"
   ]
  },
  {
   "cell_type": "code",
   "execution_count": 102,
   "metadata": {},
   "outputs": [
    {
     "data": {
      "text/html": [
       "<table class=\"data-frame\"><thead><tr><th></th><th>company</th><th>body_style</th><th>wheel_base</th><th>length</th><th>engine_type</th><th>num_of_cylinders</th><th>horsepower</th></tr><tr><th></th><th>String</th><th>String</th><th>Float64</th><th>Float64</th><th>String</th><th>String</th><th>Int64</th></tr></thead><tbody><p>4 rows × 9 columns (omitted printing of 2 columns)</p><tr><th>1</th><td>jaguar</td><td>sedan</td><td>102.0</td><td>191.7</td><td>ohcv</td><td>twelve</td><td>262</td></tr><tr><th>2</th><td>porsche</td><td>hardtop</td><td>89.5</td><td>168.9</td><td>ohcf</td><td>six</td><td>207</td></tr><tr><th>3</th><td>porsche</td><td>convertible</td><td>89.5</td><td>168.9</td><td>ohcf</td><td>six</td><td>207</td></tr><tr><th>4</th><td>porsche</td><td>hatchback</td><td>98.4</td><td>175.7</td><td>dohcv</td><td>eight</td><td>288</td></tr></tbody></table>"
      ],
      "text/latex": [
       "\\begin{tabular}{r|cccccccc}\n",
       "\t& company & body\\_style & wheel\\_base & length & engine\\_type & num\\_of\\_cylinders & horsepower & \\\\\n",
       "\t\\hline\n",
       "\t& String & String & Float64 & Float64 & String & String & Int64 & \\\\\n",
       "\t\\hline\n",
       "\t1 & jaguar & sedan & 102.0 & 191.7 & ohcv & twelve & 262 & $\\dots$ \\\\\n",
       "\t2 & porsche & hardtop & 89.5 & 168.9 & ohcf & six & 207 & $\\dots$ \\\\\n",
       "\t3 & porsche & convertible & 89.5 & 168.9 & ohcf & six & 207 & $\\dots$ \\\\\n",
       "\t4 & porsche & hatchback & 98.4 & 175.7 & dohcv & eight & 288 & $\\dots$ \\\\\n",
       "\\end{tabular}\n"
      ],
      "text/plain": [
       "4×9 DataFrame. Omitted printing of 4 columns\n",
       "│ Row │ company │ body_style  │ wheel_base │ length  │ engine_type │\n",
       "│     │ \u001b[90mString\u001b[39m  │ \u001b[90mString\u001b[39m      │ \u001b[90mFloat64\u001b[39m    │ \u001b[90mFloat64\u001b[39m │ \u001b[90mString\u001b[39m      │\n",
       "├─────┼─────────┼─────────────┼────────────┼─────────┼─────────────┤\n",
       "│ 1   │ jaguar  │ sedan       │ 102.0      │ 191.7   │ ohcv        │\n",
       "│ 2   │ porsche │ hardtop     │ 89.5       │ 168.9   │ ohcf        │\n",
       "│ 3   │ porsche │ convertible │ 89.5       │ 168.9   │ ohcf        │\n",
       "│ 4   │ porsche │ hatchback   │ 98.4       │ 175.7   │ dohcv       │"
      ]
     },
     "execution_count": 102,
     "metadata": {},
     "output_type": "execute_result"
    }
   ],
   "source": [
    "# notar que debo usar .> para la diferencia element-wise\n",
    "autos[autos.horsepower .> 200, :]"
   ]
  },
  {
   "cell_type": "code",
   "execution_count": 219,
   "metadata": {},
   "outputs": [
    {
     "data": {
      "text/html": [
       "<table class=\"data-frame\"><thead><tr><th></th><th>company</th><th>body_style</th><th>wheel_base</th><th>length</th><th>engine_type</th><th>num_of_cylinders</th><th>horsepower</th></tr><tr><th></th><th>String</th><th>String</th><th>Float64</th><th>Float64</th><th>String</th><th>String</th><th>Int64</th></tr></thead><tbody><p>3 rows × 9 columns (omitted printing of 2 columns)</p><tr><th>1</th><td>porsche</td><td>hardtop</td><td>89.5</td><td>168.9</td><td>ohcf</td><td>six</td><td>207</td></tr><tr><th>2</th><td>porsche</td><td>convertible</td><td>89.5</td><td>168.9</td><td>ohcf</td><td>six</td><td>207</td></tr><tr><th>3</th><td>porsche</td><td>hatchback</td><td>98.4</td><td>175.7</td><td>dohcv</td><td>eight</td><td>288</td></tr></tbody></table>"
      ],
      "text/latex": [
       "\\begin{tabular}{r|cccccccc}\n",
       "\t& company & body\\_style & wheel\\_base & length & engine\\_type & num\\_of\\_cylinders & horsepower & \\\\\n",
       "\t\\hline\n",
       "\t& String & String & Float64 & Float64 & String & String & Int64 & \\\\\n",
       "\t\\hline\n",
       "\t1 & porsche & hardtop & 89.5 & 168.9 & ohcf & six & 207 & $\\dots$ \\\\\n",
       "\t2 & porsche & convertible & 89.5 & 168.9 & ohcf & six & 207 & $\\dots$ \\\\\n",
       "\t3 & porsche & hatchback & 98.4 & 175.7 & dohcv & eight & 288 & $\\dots$ \\\\\n",
       "\\end{tabular}\n"
      ],
      "text/plain": [
       "3×9 DataFrame. Omitted printing of 4 columns\n",
       "│ Row │ company │ body_style  │ wheel_base │ length  │ engine_type │\n",
       "│     │ \u001b[90mString\u001b[39m  │ \u001b[90mString\u001b[39m      │ \u001b[90mFloat64\u001b[39m    │ \u001b[90mFloat64\u001b[39m │ \u001b[90mString\u001b[39m      │\n",
       "├─────┼─────────┼─────────────┼────────────┼─────────┼─────────────┤\n",
       "│ 1   │ porsche │ hardtop     │ 89.5       │ 168.9   │ ohcf        │\n",
       "│ 2   │ porsche │ convertible │ 89.5       │ 168.9   │ ohcf        │\n",
       "│ 3   │ porsche │ hatchback   │ 98.4       │ 175.7   │ dohcv       │"
      ]
     },
     "execution_count": 219,
     "metadata": {},
     "output_type": "execute_result"
    }
   ],
   "source": [
    "# notar que preciso .& y tambien preciso .==\n",
    "autos[(autos.horsepower .> 200) .& (autos.company .== \"porsche\"), :]"
   ]
  },
  {
   "cell_type": "markdown",
   "metadata": {},
   "source": [
    "## Resumenes"
   ]
  },
  {
   "cell_type": "code",
   "execution_count": 220,
   "metadata": {},
   "outputs": [
    {
     "data": {
      "text/html": [
       "<table class=\"data-frame\"><thead><tr><th></th><th>variable</th><th>mean</th><th>min</th><th>median</th><th>max</th><th>nunique</th><th>nmissing</th><th>eltype</th></tr><tr><th></th><th>Symbol</th><th>Union…</th><th>Any</th><th>Union…</th><th>Any</th><th>Union…</th><th>Union…</th><th>Type</th></tr></thead><tbody><p>9 rows × 8 columns</p><tr><th>1</th><td>company</td><td></td><td>alfa-romero</td><td></td><td>volvo</td><td>16</td><td></td><td>String</td></tr><tr><th>2</th><td>body_style</td><td></td><td>convertible</td><td></td><td>wagon</td><td>5</td><td></td><td>String</td></tr><tr><th>3</th><td>wheel_base</td><td>98.482</td><td>88.4</td><td>96.3</td><td>120.9</td><td></td><td></td><td>Float64</td></tr><tr><th>4</th><td>length</td><td>173.098</td><td>141.1</td><td>171.2</td><td>208.1</td><td></td><td></td><td>Float64</td></tr><tr><th>5</th><td>engine_type</td><td></td><td>dohc</td><td></td><td>rotor</td><td>7</td><td></td><td>String</td></tr><tr><th>6</th><td>num_of_cylinders</td><td></td><td>eight</td><td></td><td>two</td><td>7</td><td></td><td>String</td></tr><tr><th>7</th><td>horsepower</td><td>107.852</td><td>48</td><td>100.0</td><td>288</td><td></td><td></td><td>Int64</td></tr><tr><th>8</th><td>average_mileage</td><td>25.8033</td><td>13</td><td>25.0</td><td>47</td><td></td><td></td><td>Int64</td></tr><tr><th>9</th><td>price</td><td>15387.0</td><td>5151</td><td>11095.0</td><td>45400</td><td></td><td>3</td><td>Union{Missing, Int64}</td></tr></tbody></table>"
      ],
      "text/latex": [
       "\\begin{tabular}{r|cccccccc}\n",
       "\t& variable & mean & min & median & max & nunique & nmissing & eltype\\\\\n",
       "\t\\hline\n",
       "\t& Symbol & Union… & Any & Union… & Any & Union… & Union… & Type\\\\\n",
       "\t\\hline\n",
       "\t1 & company &  & alfa-romero &  & volvo & 16 &  & String \\\\\n",
       "\t2 & body\\_style &  & convertible &  & wagon & 5 &  & String \\\\\n",
       "\t3 & wheel\\_base & 98.482 & 88.4 & 96.3 & 120.9 &  &  & Float64 \\\\\n",
       "\t4 & length & 173.098 & 141.1 & 171.2 & 208.1 &  &  & Float64 \\\\\n",
       "\t5 & engine\\_type &  & dohc &  & rotor & 7 &  & String \\\\\n",
       "\t6 & num\\_of\\_cylinders &  & eight &  & two & 7 &  & String \\\\\n",
       "\t7 & horsepower & 107.852 & 48 & 100.0 & 288 &  &  & Int64 \\\\\n",
       "\t8 & average\\_mileage & 25.8033 & 13 & 25.0 & 47 &  &  & Int64 \\\\\n",
       "\t9 & price & 15387.0 & 5151 & 11095.0 & 45400 &  & 3 & Union\\{Missing, Int64\\} \\\\\n",
       "\\end{tabular}\n"
      ],
      "text/plain": [
       "9×8 DataFrame. Omitted printing of 2 columns\n",
       "│ Row │ variable         │ mean    │ min         │ median  │ max   │ nunique │\n",
       "│     │ \u001b[90mSymbol\u001b[39m           │ \u001b[90mUnion…\u001b[39m  │ \u001b[90mAny\u001b[39m         │ \u001b[90mUnion…\u001b[39m  │ \u001b[90mAny\u001b[39m   │ \u001b[90mUnion…\u001b[39m  │\n",
       "├─────┼──────────────────┼─────────┼─────────────┼─────────┼───────┼─────────┤\n",
       "│ 1   │ company          │         │ alfa-romero │         │ volvo │ 16      │\n",
       "│ 2   │ body_style       │         │ convertible │         │ wagon │ 5       │\n",
       "│ 3   │ wheel_base       │ 98.482  │ 88.4        │ 96.3    │ 120.9 │         │\n",
       "│ 4   │ length           │ 173.098 │ 141.1       │ 171.2   │ 208.1 │         │\n",
       "│ 5   │ engine_type      │         │ dohc        │         │ rotor │ 7       │\n",
       "│ 6   │ num_of_cylinders │         │ eight       │         │ two   │ 7       │\n",
       "│ 7   │ horsepower       │ 107.852 │ 48          │ 100.0   │ 288   │         │\n",
       "│ 8   │ average_mileage  │ 25.8033 │ 13          │ 25.0    │ 47    │         │\n",
       "│ 9   │ price            │ 15387.0 │ 5151        │ 11095.0 │ 45400 │         │"
      ]
     },
     "execution_count": 220,
     "metadata": {},
     "output_type": "execute_result"
    }
   ],
   "source": [
    "describe(autos)"
   ]
  },
  {
   "cell_type": "code",
   "execution_count": 224,
   "metadata": {},
   "outputs": [
    {
     "data": {
      "text/plain": [
       "4-element Array{Union{Missing, Int64},1}:\n",
       " missing\n",
       " missing\n",
       " missing\n",
       " missing"
      ]
     },
     "execution_count": 224,
     "metadata": {},
     "output_type": "execute_result"
    }
   ],
   "source": [
    "v = Vector{Union{Missing, Int64}}(undef, 4)"
   ]
  },
  {
   "cell_type": "code",
   "execution_count": 225,
   "metadata": {},
   "outputs": [
    {
     "data": {
      "text/plain": [
       "4-element Array{Union{Missing, Int64},1}:\n",
       " 100       \n",
       "    missing\n",
       "  40       \n",
       "    missing"
      ]
     },
     "execution_count": 225,
     "metadata": {},
     "output_type": "execute_result"
    }
   ],
   "source": [
    "v[1] = 100\n",
    "v[2] = missing\n",
    "v[3] = 40\n",
    "v[4] = missing\n",
    "v"
   ]
  },
  {
   "cell_type": "code",
   "execution_count": 226,
   "metadata": {},
   "outputs": [
    {
     "data": {
      "text/plain": [
       "61-element CSV.Column{Union{Missing, Int64},Union{Missing, Int64}}:\n",
       " 13495\n",
       " 16500\n",
       " 16500\n",
       " 13950\n",
       " 17450\n",
       " 15250\n",
       " 18920\n",
       " 16430\n",
       " 16925\n",
       " 20970\n",
       " 30760\n",
       " 41315\n",
       " 36880\n",
       "     ⋮\n",
       "  6338\n",
       "  6488\n",
       "  6918\n",
       "  7898\n",
       "  8778\n",
       " 15750\n",
       "  7775\n",
       "  7975\n",
       "  7995\n",
       "  9995\n",
       " 12940\n",
       " 13415"
      ]
     },
     "execution_count": 226,
     "metadata": {},
     "output_type": "execute_result"
    }
   ],
   "source": [
    "autos.price"
   ]
  },
  {
   "cell_type": "markdown",
   "metadata": {},
   "source": [
    "# Usando el paquete Statistics"
   ]
  },
  {
   "cell_type": "markdown",
   "metadata": {},
   "source": [
    "Statistics esta en Base:\n",
    "\n",
    "- https://docs.julialang.org/en/v1/stdlib/Statistics/"
   ]
  },
  {
   "cell_type": "code",
   "execution_count": 227,
   "metadata": {},
   "outputs": [],
   "source": [
    "using Statistics"
   ]
  },
  {
   "cell_type": "code",
   "execution_count": 228,
   "metadata": {},
   "outputs": [
    {
     "data": {
      "text/plain": [
       "107.85245901639344"
      ]
     },
     "execution_count": 228,
     "metadata": {},
     "output_type": "execute_result"
    }
   ],
   "source": [
    "mean(autos.horsepower)"
   ]
  },
  {
   "cell_type": "code",
   "execution_count": 237,
   "metadata": {},
   "outputs": [
    {
     "data": {
      "text/plain": [
       "CSV.Column{Union{Missing, Int64},Union{Missing, Int64}}"
      ]
     },
     "execution_count": 237,
     "metadata": {},
     "output_type": "execute_result"
    }
   ],
   "source": [
    "typeof(autos.price)"
   ]
  },
  {
   "cell_type": "code",
   "execution_count": 240,
   "metadata": {},
   "outputs": [
    {
     "data": {
      "text/html": [
       "<table class=\"data-frame\"><thead><tr><th></th><th>nombre</th><th>edad</th></tr><tr><th></th><th>String</th><th>Int64</th></tr></thead><tbody><p>3 rows × 2 columns</p><tr><th>1</th><td>Marcos</td><td>30</td></tr><tr><th>2</th><td>Silvana</td><td>35</td></tr><tr><th>3</th><td>Alejandro</td><td>34</td></tr></tbody></table>"
      ],
      "text/latex": [
       "\\begin{tabular}{r|cc}\n",
       "\t& nombre & edad\\\\\n",
       "\t\\hline\n",
       "\t& String & Int64\\\\\n",
       "\t\\hline\n",
       "\t1 & Marcos & 30 \\\\\n",
       "\t2 & Silvana & 35 \\\\\n",
       "\t3 & Alejandro & 34 \\\\\n",
       "\\end{tabular}\n"
      ],
      "text/plain": [
       "3×2 DataFrame\n",
       "│ Row │ nombre    │ edad  │\n",
       "│     │ \u001b[90mString\u001b[39m    │ \u001b[90mInt64\u001b[39m │\n",
       "├─────┼───────────┼───────┤\n",
       "│ 1   │ Marcos    │ 30    │\n",
       "│ 2   │ Silvana   │ 35    │\n",
       "│ 3   │ Alejandro │ 34    │"
      ]
     },
     "execution_count": 240,
     "metadata": {},
     "output_type": "execute_result"
    }
   ],
   "source": [
    "df"
   ]
  },
  {
   "cell_type": "code",
   "execution_count": 239,
   "metadata": {},
   "outputs": [
    {
     "data": {
      "text/plain": [
       "Array{String,1}"
      ]
     },
     "execution_count": 239,
     "metadata": {},
     "output_type": "execute_result"
    }
   ],
   "source": [
    "typeof(df.nombre)"
   ]
  },
  {
   "cell_type": "code",
   "execution_count": 232,
   "metadata": {},
   "outputs": [
    {
     "data": {
      "text/plain": [
       "288"
      ]
     },
     "execution_count": 232,
     "metadata": {},
     "output_type": "execute_result"
    }
   ],
   "source": [
    "maximum(autos.horsepower)"
   ]
  },
  {
   "cell_type": "markdown",
   "metadata": {},
   "source": [
    "# Combinacion de data frames con join"
   ]
  },
  {
   "cell_type": "code",
   "execution_count": 251,
   "metadata": {},
   "outputs": [
    {
     "data": {
      "text/plain": [
       "21"
      ]
     },
     "execution_count": 251,
     "metadata": {},
     "output_type": "execute_result"
    }
   ],
   "source": [
    "# el \"pipe\"\n",
    "f(x) = x + 1\n",
    "g(x) = x + 10\n",
    "10 |> f |> g"
   ]
  },
  {
   "cell_type": "markdown",
   "metadata": {},
   "source": [
    "# Uso de la funcion \"by\" (split-apply-combine)"
   ]
  },
  {
   "cell_type": "code",
   "execution_count": 262,
   "metadata": {},
   "outputs": [
    {
     "data": {
      "text/html": [
       "<table class=\"data-frame\"><thead><tr><th></th><th>company</th><th>price_mean</th></tr><tr><th></th><th>String</th><th>Float64⍰</th></tr></thead><tbody><p>16 rows × 2 columns</p><tr><th>1</th><td>chevrolet</td><td>6007.0</td></tr><tr><th>2</th><td>dodge</td><td>6303.0</td></tr><tr><th>3</th><td>mitsubishi</td><td>6689.0</td></tr><tr><th>4</th><td>toyota</td><td>8216.86</td></tr><tr><th>5</th><td>nissan</td><td>8289.0</td></tr><tr><th>6</th><td>volkswagen</td><td>8435.0</td></tr><tr><th>7</th><td>mazda</td><td>9654.8</td></tr><tr><th>8</th><td>honda</td><td>10195.0</td></tr><tr><th>9</th><td>volvo</td><td>13177.5</td></tr><tr><th>10</th><td>alfa-romero</td><td>15498.3</td></tr><tr><th>11</th><td>audi</td><td>16392.5</td></tr><tr><th>12</th><td>bmw</td><td>27213.3</td></tr><tr><th>13</th><td>jaguar</td><td>34600.0</td></tr><tr><th>14</th><td>mercedes-benz</td><td>35040.0</td></tr><tr><th>15</th><td>isuzu</td><td>missing</td></tr><tr><th>16</th><td>porsche</td><td>missing</td></tr></tbody></table>"
      ],
      "text/latex": [
       "\\begin{tabular}{r|cc}\n",
       "\t& company & price\\_mean\\\\\n",
       "\t\\hline\n",
       "\t& String & Float64⍰\\\\\n",
       "\t\\hline\n",
       "\t1 & chevrolet & 6007.0 \\\\\n",
       "\t2 & dodge & 6303.0 \\\\\n",
       "\t3 & mitsubishi & 6689.0 \\\\\n",
       "\t4 & toyota & 8216.86 \\\\\n",
       "\t5 & nissan & 8289.0 \\\\\n",
       "\t6 & volkswagen & 8435.0 \\\\\n",
       "\t7 & mazda & 9654.8 \\\\\n",
       "\t8 & honda & 10195.0 \\\\\n",
       "\t9 & volvo & 13177.5 \\\\\n",
       "\t10 & alfa-romero & 15498.3 \\\\\n",
       "\t11 & audi & 16392.5 \\\\\n",
       "\t12 & bmw & 27213.3 \\\\\n",
       "\t13 & jaguar & 34600.0 \\\\\n",
       "\t14 & mercedes-benz & 35040.0 \\\\\n",
       "\t15 & isuzu &  \\\\\n",
       "\t16 & porsche &  \\\\\n",
       "\\end{tabular}\n"
      ],
      "text/plain": [
       "16×2 DataFrame\n",
       "│ Row │ company       │ price_mean │\n",
       "│     │ \u001b[90mString\u001b[39m        │ \u001b[90mFloat64⍰\u001b[39m   │\n",
       "├─────┼───────────────┼────────────┤\n",
       "│ 1   │ chevrolet     │ 6007.0     │\n",
       "│ 2   │ dodge         │ 6303.0     │\n",
       "│ 3   │ mitsubishi    │ 6689.0     │\n",
       "│ 4   │ toyota        │ 8216.86    │\n",
       "│ 5   │ nissan        │ 8289.0     │\n",
       "│ 6   │ volkswagen    │ 8435.0     │\n",
       "│ 7   │ mazda         │ 9654.8     │\n",
       "│ 8   │ honda         │ 10195.0    │\n",
       "│ 9   │ volvo         │ 13177.5    │\n",
       "│ 10  │ alfa-romero   │ 15498.3    │\n",
       "│ 11  │ audi          │ 16392.5    │\n",
       "│ 12  │ bmw           │ 27213.3    │\n",
       "│ 13  │ jaguar        │ 34600.0    │\n",
       "│ 14  │ mercedes-benz │ 35040.0    │\n",
       "│ 15  │ isuzu         │ \u001b[90mmissing\u001b[39m    │\n",
       "│ 16  │ porsche       │ \u001b[90mmissing\u001b[39m    │"
      ]
     },
     "execution_count": 262,
     "metadata": {},
     "output_type": "execute_result"
    }
   ],
   "source": [
    "# Buscar.. como se usa con pipe?\n",
    "# autos |> by(:, :company, :price=>mean) |> sort(:, 2)\n",
    "\n",
    "sort(by(autos, :company, :price => mean), 2)"
   ]
  },
  {
   "cell_type": "code",
   "execution_count": 273,
   "metadata": {},
   "outputs": [
    {
     "data": {
      "text/plain": [
       "45400"
      ]
     },
     "execution_count": 273,
     "metadata": {},
     "output_type": "execute_result"
    }
   ],
   "source": [
    "maximum(skipmissing(autos.price))"
   ]
  },
  {
   "cell_type": "code",
   "execution_count": 278,
   "metadata": {},
   "outputs": [
    {
     "data": {
      "text/html": [
       "<table class=\"data-frame\"><thead><tr><th></th><th>company</th><th>price_function</th></tr><tr><th></th><th>String</th><th>typeof…</th></tr></thead><tbody><p>16 rows × 2 columns</p><tr><th>1</th><td>alfa-romero</td><td>maximum</td></tr><tr><th>2</th><td>audi</td><td>maximum</td></tr><tr><th>3</th><td>bmw</td><td>maximum</td></tr><tr><th>4</th><td>chevrolet</td><td>maximum</td></tr><tr><th>5</th><td>dodge</td><td>maximum</td></tr><tr><th>6</th><td>honda</td><td>maximum</td></tr><tr><th>7</th><td>isuzu</td><td>maximum</td></tr><tr><th>8</th><td>jaguar</td><td>maximum</td></tr><tr><th>9</th><td>mazda</td><td>maximum</td></tr><tr><th>10</th><td>mercedes-benz</td><td>maximum</td></tr><tr><th>11</th><td>mitsubishi</td><td>maximum</td></tr><tr><th>12</th><td>nissan</td><td>maximum</td></tr><tr><th>13</th><td>porsche</td><td>maximum</td></tr><tr><th>14</th><td>toyota</td><td>maximum</td></tr><tr><th>15</th><td>volkswagen</td><td>maximum</td></tr><tr><th>16</th><td>volvo</td><td>maximum</td></tr></tbody></table>"
      ],
      "text/latex": [
       "\\begin{tabular}{r|cc}\n",
       "\t& company & price\\_function\\\\\n",
       "\t\\hline\n",
       "\t& String & typeof…\\\\\n",
       "\t\\hline\n",
       "\t1 & alfa-romero & maximum \\\\\n",
       "\t2 & audi & maximum \\\\\n",
       "\t3 & bmw & maximum \\\\\n",
       "\t4 & chevrolet & maximum \\\\\n",
       "\t5 & dodge & maximum \\\\\n",
       "\t6 & honda & maximum \\\\\n",
       "\t7 & isuzu & maximum \\\\\n",
       "\t8 & jaguar & maximum \\\\\n",
       "\t9 & mazda & maximum \\\\\n",
       "\t10 & mercedes-benz & maximum \\\\\n",
       "\t11 & mitsubishi & maximum \\\\\n",
       "\t12 & nissan & maximum \\\\\n",
       "\t13 & porsche & maximum \\\\\n",
       "\t14 & toyota & maximum \\\\\n",
       "\t15 & volkswagen & maximum \\\\\n",
       "\t16 & volvo & maximum \\\\\n",
       "\\end{tabular}\n"
      ],
      "text/plain": [
       "16×2 DataFrame\n",
       "│ Row │ company       │ price_function │\n",
       "│     │ \u001b[90mString\u001b[39m        │ \u001b[90mtypeof…\u001b[39m        │\n",
       "├─────┼───────────────┼────────────────┤\n",
       "│ 1   │ alfa-romero   │ maximum        │\n",
       "│ 2   │ audi          │ maximum        │\n",
       "│ 3   │ bmw           │ maximum        │\n",
       "│ 4   │ chevrolet     │ maximum        │\n",
       "│ 5   │ dodge         │ maximum        │\n",
       "│ 6   │ honda         │ maximum        │\n",
       "│ 7   │ isuzu         │ maximum        │\n",
       "│ 8   │ jaguar        │ maximum        │\n",
       "│ 9   │ mazda         │ maximum        │\n",
       "│ 10  │ mercedes-benz │ maximum        │\n",
       "│ 11  │ mitsubishi    │ maximum        │\n",
       "│ 12  │ nissan        │ maximum        │\n",
       "│ 13  │ porsche       │ maximum        │\n",
       "│ 14  │ toyota        │ maximum        │\n",
       "│ 15  │ volkswagen    │ maximum        │\n",
       "│ 16  │ volvo         │ maximum        │"
      ]
     },
     "execution_count": 278,
     "metadata": {},
     "output_type": "execute_result"
    }
   ],
   "source": [
    "# esto me devuelve el missing en \"porsche\"\n",
    "z = by(autos, :company, :price => x -> maximum)"
   ]
  },
  {
   "cell_type": "code",
   "execution_count": 279,
   "metadata": {},
   "outputs": [
    {
     "data": {
      "text/html": [
       "<table class=\"data-frame\"><thead><tr><th></th><th>company</th><th>price_function</th></tr><tr><th></th><th>String</th><th>Int64</th></tr></thead><tbody><p>16 rows × 2 columns</p><tr><th>1</th><td>alfa-romero</td><td>16500</td></tr><tr><th>2</th><td>audi</td><td>18920</td></tr><tr><th>3</th><td>bmw</td><td>41315</td></tr><tr><th>4</th><td>chevrolet</td><td>6575</td></tr><tr><th>5</th><td>dodge</td><td>6377</td></tr><tr><th>6</th><td>honda</td><td>12945</td></tr><tr><th>7</th><td>isuzu</td><td>6785</td></tr><tr><th>8</th><td>jaguar</td><td>36000</td></tr><tr><th>9</th><td>mazda</td><td>18344</td></tr><tr><th>10</th><td>mercedes-benz</td><td>45400</td></tr><tr><th>11</th><td>mitsubishi</td><td>8189</td></tr><tr><th>12</th><td>nissan</td><td>13499</td></tr><tr><th>13</th><td>porsche</td><td>37028</td></tr><tr><th>14</th><td>toyota</td><td>15750</td></tr><tr><th>15</th><td>volkswagen</td><td>9995</td></tr><tr><th>16</th><td>volvo</td><td>13415</td></tr></tbody></table>"
      ],
      "text/latex": [
       "\\begin{tabular}{r|cc}\n",
       "\t& company & price\\_function\\\\\n",
       "\t\\hline\n",
       "\t& String & Int64\\\\\n",
       "\t\\hline\n",
       "\t1 & alfa-romero & 16500 \\\\\n",
       "\t2 & audi & 18920 \\\\\n",
       "\t3 & bmw & 41315 \\\\\n",
       "\t4 & chevrolet & 6575 \\\\\n",
       "\t5 & dodge & 6377 \\\\\n",
       "\t6 & honda & 12945 \\\\\n",
       "\t7 & isuzu & 6785 \\\\\n",
       "\t8 & jaguar & 36000 \\\\\n",
       "\t9 & mazda & 18344 \\\\\n",
       "\t10 & mercedes-benz & 45400 \\\\\n",
       "\t11 & mitsubishi & 8189 \\\\\n",
       "\t12 & nissan & 13499 \\\\\n",
       "\t13 & porsche & 37028 \\\\\n",
       "\t14 & toyota & 15750 \\\\\n",
       "\t15 & volkswagen & 9995 \\\\\n",
       "\t16 & volvo & 13415 \\\\\n",
       "\\end{tabular}\n"
      ],
      "text/plain": [
       "16×2 DataFrame\n",
       "│ Row │ company       │ price_function │\n",
       "│     │ \u001b[90mString\u001b[39m        │ \u001b[90mInt64\u001b[39m          │\n",
       "├─────┼───────────────┼────────────────┤\n",
       "│ 1   │ alfa-romero   │ 16500          │\n",
       "│ 2   │ audi          │ 18920          │\n",
       "│ 3   │ bmw           │ 41315          │\n",
       "│ 4   │ chevrolet     │ 6575           │\n",
       "│ 5   │ dodge         │ 6377           │\n",
       "│ 6   │ honda         │ 12945          │\n",
       "│ 7   │ isuzu         │ 6785           │\n",
       "│ 8   │ jaguar        │ 36000          │\n",
       "│ 9   │ mazda         │ 18344          │\n",
       "│ 10  │ mercedes-benz │ 45400          │\n",
       "│ 11  │ mitsubishi    │ 8189           │\n",
       "│ 12  │ nissan        │ 13499          │\n",
       "│ 13  │ porsche       │ 37028          │\n",
       "│ 14  │ toyota        │ 15750          │\n",
       "│ 15  │ volkswagen    │ 9995           │\n",
       "│ 16  │ volvo         │ 13415          │"
      ]
     },
     "execution_count": 279,
     "metadata": {},
     "output_type": "execute_result"
    }
   ],
   "source": [
    "# ignoro el missing\n",
    "by(autos, :company, :price => x -> maximum(skipmissing(x)))"
   ]
  },
  {
   "cell_type": "markdown",
   "metadata": {},
   "source": [
    "# Series temporales con TimeSeries.jl"
   ]
  },
  {
   "cell_type": "markdown",
   "metadata": {},
   "source": [
    "### Referencias\n",
    "\n",
    "- https://github.com/JuliaStats/TimeSeries.jl"
   ]
  }
 ],
 "metadata": {
  "kernelspec": {
   "display_name": "Julia 1.2.0",
   "language": "julia",
   "name": "julia-1.2"
  },
  "language_info": {
   "file_extension": ".jl",
   "mimetype": "application/julia",
   "name": "julia",
   "version": "1.2.0"
  }
 },
 "nbformat": 4,
 "nbformat_minor": 2
}
