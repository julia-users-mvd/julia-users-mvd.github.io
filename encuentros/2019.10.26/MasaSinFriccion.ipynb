{
 "cells": [
  {
   "cell_type": "markdown",
   "metadata": {},
   "source": [
    "# Control de Partícula en Tiempo Mínimo (Sin Fricción)\n",
    "---\n",
    "El problema está planteado en Bertsekas Vol1 pag 136.\n",
    "\n",
    "Propone una particula que se mueve sin fricción en una recta, con condición inicial conocida $x(0)$ y $\\dot{x}(0)$. Controlamos la particula mediante una fuerza $u$ tal que $|u|\\leq 1$.\n",
    "\n",
    "Tenemos como objetivo llevar la partícula al origen en tiempo mínimo. O sea que $x(T)=0$ y $\\dot{x}(T)=0$ con:\n",
    "\n",
    "$$ \\min_u \\int_0^T 1 dt $$\n",
    "\n",
    "## Solución mediante Principio del Mínimo de Poyntragin\n",
    "\n",
    "En clase probamos que el principio del mínimo nos indicaba que iban a haber cuatro alternativas de control dependiendo de cuál fuera la condición inicial. Los controles eran del tipo Bang-Bang.\n",
    "\n",
    "1. Switcheo de Fuerza:      $u^*=1$ a $u^*=-1$\n",
    "2. Switcheo de Fuerza:      $u^*=-1$ a $u^*=1$\n",
    "3. Mantengo siempre Fuerza: $u^*=1$\n",
    "4. Mantengo siempre Fuerza: $u^*=-1$\n",
    "\n",
    "<img src=\"SinFriccion.png\" width=\"500\">\n",
    "\n",
    "De la política de switcheos, concluímos que debíamos resolver la dinámica tanto para $u=1$ como para $u=-1$ y las trayectorias en el espacio de fases ($[x;\\dot{x}]$) obtenidas se debían concatenar para obtener las trayectorias óptimas.\n",
    "\n",
    "<img src=\"Part_NoFriccion.png\" width=\"400\">\n"
   ]
  },
  {
   "cell_type": "markdown",
   "metadata": {},
   "source": [
    "## Solución Numérica con JuMP"
   ]
  },
  {
   "cell_type": "code",
   "execution_count": null,
   "metadata": {},
   "outputs": [],
   "source": [
    "using JuMP, Ipopt"
   ]
  },
  {
   "cell_type": "code",
   "execution_count": null,
   "metadata": {},
   "outputs": [],
   "source": [
    "# Codigo basado en ejemplo \"Rocket Control\" (https://www.juliaopt.org/notebooks/JuMP-Rocket.html)\n",
    "\n",
    "# Creo el Modelo en JuMP, uso Ipopt como Solver\n",
    "mod = Model(with_optimizer(Ipopt.Optimizer,print_level=0))\n",
    "\n",
    "# Ejemplo de Control de una particula de masa=1 mediante fuerzas |u|<=1\n",
    "# de manera de llegar a x=0 con v=0 en tiempo minimo.\n",
    "\n",
    "x_0 = -1    # Posicion Inicial\n",
    "v_0 = -1    # Velocidad Inicial\n",
    "\n",
    "n = 50                                     # Numero de Pasos Temporales\n",
    "@variable(mod, Δt ≥ 0, start = 1/n)        # Intervalo de Tiempo\n",
    "@NLexpression(mod,t_f, Δt*n)               # Tiempo Final\n",
    "\n",
    "# Variables Dinamicas\n",
    "@variable(mod, x[0:n] )          # Posicion\n",
    "@variable(mod, v[0:n] )          # Velocidad\n",
    "\n",
    "# Control: Empuje\n",
    "@variable(mod, -1 ≤ u[0:n] ≤ 1)\n",
    "\n",
    "# Objetivo: Minimizar tiempo hasta llegar a x=0 con v=0\n",
    "@NLobjective(mod, Min, t_f)\n",
    "\n",
    "# Condiciones Iniciales\n",
    "@constraint(mod, x[0] == x_0)\n",
    "@constraint(mod, v[0] == v_0)\n",
    "\n",
    "# Condiciones Finales\n",
    "@constraint(mod, x[n] == 0)\n",
    "@constraint(mod, v[n] == 0)\n",
    "\n",
    "\n",
    "# Dinamica\n",
    "for j in 1:n\n",
    "    # x' = v\n",
    "    # Regla del Trapecio\n",
    "    @NLconstraint(mod,\n",
    "        x[j] == x[j-1] + 0.5*Δt*(v[j]+v[j-1]))\n",
    "\n",
    "    # v' = u\n",
    "    # Regla del Trapecio\n",
    "    @NLconstraint(mod,\n",
    "    v[j] == v[j-1] + 0.5*Δt*(u[j]+u[j-1]))\n",
    "end\n",
    "\n",
    "# Punto de Arranque Para Solver\n",
    "for k in 0:n\n",
    "    set_start_value(x[k], 1)\n",
    "    set_start_value(v[k], 0)\n",
    "    set_start_value(u[k], 1)\n",
    "end\n",
    "\n",
    "# Imprimo el Problema de Optimizacion (mod)\n",
    "#print(mod)\n",
    "println(\"\")\n",
    "\n",
    "# Resolvemos control y variables de estado\n",
    "println(\"Solving...\")\n",
    "status = optimize!(mod)\n",
    "\n",
    "# Mostramos resultados\n",
    "println(\"Estado del Solver: \", termination_status(mod))\n",
    "println(\"Tiempo de Llegada al Origen: \", objective_value(mod))"
   ]
  },
  {
   "cell_type": "markdown",
   "metadata": {},
   "source": [
    "## Presentación gráfica de solución numérica"
   ]
  },
  {
   "cell_type": "code",
   "execution_count": null,
   "metadata": {},
   "outputs": [],
   "source": [
    "using Gadfly"
   ]
  },
  {
   "cell_type": "code",
   "execution_count": null,
   "metadata": {},
   "outputs": [],
   "source": [
    "tiempo = collect((0:n)*value(Δt))\n",
    "\n",
    "x_plot = plot(x=tiempo,y=collect(value.(x)), Geom.point,\n",
    "Guide.xlabel(\"Tiempo\"), Guide.ylabel(\"Posicion\"))\n",
    "\n",
    "v_plot = plot(x=tiempo,y=collect(value.(v)), Geom.point,\n",
    "Guide.xlabel(\"Tiempo\"), Guide.ylabel(\"Velocidad\"))\n",
    "\n",
    "f_plot = plot(x=collect(value.(x)),y=collect(value.(v)), Geom.point,\n",
    "            Guide.xlabel(\"Posicion\"), Guide.ylabel(\"Velocidad\"))\n",
    "\n",
    "u_plot = plot(x=tiempo,y=collect(value.(u)), Geom.point,\n",
    "            Guide.xlabel(\"Tiempo\"), Guide.ylabel(\"Fuerza Control (u)\"))\n",
    "\n",
    "draw(SVG(8inch, 8inch), vstack(hstack( x_plot,v_plot),\n",
    "                        hstack(f_plot,u_plot)))"
   ]
  },
  {
   "cell_type": "code",
   "execution_count": null,
   "metadata": {},
   "outputs": [],
   "source": []
  }
 ],
 "metadata": {
  "kernelspec": {
   "display_name": "Julia 1.2.0",
   "language": "julia",
   "name": "julia-1.2"
  },
  "language_info": {
   "file_extension": ".jl",
   "mimetype": "application/julia",
   "name": "julia",
   "version": "1.2.0"
  }
 },
 "nbformat": 4,
 "nbformat_minor": 1
}
