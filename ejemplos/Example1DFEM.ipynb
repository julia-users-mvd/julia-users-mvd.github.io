{
 "cells": [
  {
   "cell_type": "markdown",
   "metadata": {},
   "source": [
    "# Example application to 1D Navier equation using Julia\n",
    "A simple implementation of the Finite Element Method for the resolution of the differential equation\n",
    "\n",
    "$$\n",
    "u_{,xx}(x) + f(x) = 0\n",
    "$$\n",
    "\n",
    "using a notation similar to Chapter One from the book: The Finite Element Method by Thomas J. R. Hughes.\n",
    "\n",
    "**under construction** errors and suggestions &rightarrow; [www.fing.edu.uy/~jorgepz](https://www.fing.edu.uy/~jorgepz/)"
   ]
  },
  {
   "cell_type": "markdown",
   "metadata": {},
   "source": [
    "## Physical interpretation of the equation\n",
    "Let us consider a truss or unidimensional solid with length $\\ell$, submitted to volume load $b(x)$, $u(x)$ is the displacement of each particle, $u_{,x}$ is the axial deformation and $E(x)\\times u_{,x}(x)$ is the internal stress at each section located at $x$. The equilibrium equation can be obtained considering a differential of the solid:\n",
    "\n",
    "$$\n",
    "\\frac{\\partial}{\\partial x} \\left( E(x) u_{,x}(x) \\right) + b(x) = 0.\n",
    "$$\n",
    "\n",
    "where $b$ is a force per unit of length, such as a unidimensional density.\n",
    "\n",
    "Let us consider for this example that $E$ is uniform in the domain $[0,\\ell]$, and E(x)=E. Then if the equation is divided by $E$ we obtain:\n",
    "\n",
    "$$\n",
    "u_{,xx}(x) + f(x) = 0.\n",
    "$$\n",
    "\n",
    "where $f(x) = \\frac{b(x)}{E}$. Moreover $b(x)$ is a volume force per length volume. Let us consider the self weight: $b(x)=\\rho(x) g A(x)$, where $A(x)$ is the area of the cross section."
   ]
  },
  {
   "cell_type": "code",
   "execution_count": 7,
   "metadata": {},
   "outputs": [],
   "source": [
    "#using Pkg\n",
    "#Pkg.add(\"PyPlot\")\n",
    "using PyPlot\n",
    "using LinearAlgebra"
   ]
  },
  {
   "cell_type": "markdown",
   "metadata": {},
   "source": [
    "## Input\n",
    "Let as consider a steel truss element submitted to gravity load (in vertical position). At $x=0$ the displacement  is fixed thus $u(x)=0$ and in all the domain $b(x) = \\rho g A(x)$."
   ]
  },
  {
   "cell_type": "code",
   "execution_count": 8,
   "metadata": {},
   "outputs": [],
   "source": [
    "E   = 210e9 ;   #  N/m2\n",
    "rho = 8000  ;   # kg/m3\n",
    "g   = 9.81  ;   #  m/s2\n",
    "l   = 1     ;   #  m\n",
    "A   = 0.1*0.1 ; # m2\n",
    "\n",
    "# nodes with known zero displcement\n",
    "fixdofs = [ 1 ] ; # node corresponding to x=0\n",
    "\n",
    "nelems = 20 ;  # number of finite elements for the discretization"
   ]
  },
  {
   "cell_type": "markdown",
   "metadata": {},
   "source": [
    "Auxiliar computations"
   ]
  },
  {
   "cell_type": "code",
   "execution_count": 9,
   "metadata": {},
   "outputs": [],
   "source": [
    "nnodes = nelems + 1;\n",
    "lelem  = l / nelems ; # length of each element\n",
    "\n",
    "totdofs = 1:(nnodes) ;\n",
    "fredofs = setdiff( totdofs, fixdofs );\n",
    "\n",
    "Nodes   = lelem * (0:nelems) ;\n",
    "loadsVector = vec( zeros( nnodes, 1 ) );\n",
    "Areas   = A * vec( ones(nelems,1) ) ;"
   ]
  },
  {
   "cell_type": "markdown",
   "metadata": {},
   "source": [
    "## Analysis\n",
    "System matrix and independent term vector assembly."
   ]
  },
  {
   "cell_type": "code",
   "execution_count": 10,
   "metadata": {},
   "outputs": [],
   "source": [
    "using SparseArrays\n",
    "KG    = spzeros( nnodes, nnodes)\n",
    "Kbase = [ 1 -1 ; -1 1 ]\n",
    "FG = loadsVector;\n",
    "\n",
    "for i in 1:nelems\n",
    "  elemdofs = [i, i+1]\n",
    "  A = Areas[i]\n",
    "  KG[elemdofs, elemdofs ] += E*A/lelem * Kbase ;\n",
    "  FG[elemdofs]            += rho*g*A*lelem * [ 0.5, 0.5] ;\n",
    "end\n"
   ]
  },
  {
   "cell_type": "markdown",
   "metadata": {},
   "source": [
    "Boundary conditions and system resolution."
   ]
  },
  {
   "cell_type": "code",
   "execution_count": 11,
   "metadata": {},
   "outputs": [],
   "source": [
    "Kliblib = KG[fredofs,fredofs ];\n",
    "Flib    = FG[fredofs];\n",
    "\n",
    "u = Kliblib \\ Flib ;\n",
    "UG = vec( zeros( nnodes,1));\n",
    "UG[fredofs] = u;\n"
   ]
  },
  {
   "cell_type": "code",
   "execution_count": 13,
   "metadata": {},
   "outputs": [
    {
     "ename": "PyCall.PyError",
     "evalue": "PyError ($(Expr(:escape, :(ccall(#= /home/jor/.julia/packages/PyCall/ttONZ/src/pyfncall.jl:44 =# @pysym(:PyObject_Call), PyPtr, (PyPtr, PyPtr, PyPtr), o, pyargsptr, kw))))) <class 'ValueError'>\nValueError(\"'--x' is not a valid value for ls; supported values are '-', '--', '-.', ':', 'None', ' ', '', 'solid', 'dashed', 'dashdot', 'dotted'\")\n  File \"/usr/lib/python3.7/site-packages/matplotlib/pyplot.py\", line 2795, in plot\n    is not None else {}), **kwargs)\n  File \"/usr/lib/python3.7/site-packages/matplotlib/axes/_axes.py\", line 1666, in plot\n    lines = [*self._get_lines(*args, data=data, **kwargs)]\n  File \"/usr/lib/python3.7/site-packages/matplotlib/axes/_base.py\", line 225, in __call__\n    yield from self._plot_args(this, kwargs)\n  File \"/usr/lib/python3.7/site-packages/matplotlib/axes/_base.py\", line 405, in _plot_args\n    seg = func(x[:, j % ncx], y[:, j % ncy], kw, kwargs)\n  File \"/usr/lib/python3.7/site-packages/matplotlib/axes/_base.py\", line 312, in _makeline\n    seg = mlines.Line2D(x, y, **kw)\n  File \"/usr/lib/python3.7/site-packages/matplotlib/lines.py\", line 377, in __init__\n    self.set_linestyle(linestyle)\n  File \"/usr/lib/python3.7/site-packages/matplotlib/lines.py\", line 1185, in set_linestyle\n    cbook._check_in_list([*self._lineStyles, *ls_mapper_r], ls=ls)\n  File \"/usr/lib/python3.7/site-packages/matplotlib/cbook/__init__.py\", line 2164, in _check_in_list\n    .format(v, k, ', '.join(map(repr, values))))\n",
     "output_type": "error",
     "traceback": [
      "PyError ($(Expr(:escape, :(ccall(#= /home/jor/.julia/packages/PyCall/ttONZ/src/pyfncall.jl:44 =# @pysym(:PyObject_Call), PyPtr, (PyPtr, PyPtr, PyPtr), o, pyargsptr, kw))))) <class 'ValueError'>\nValueError(\"'--x' is not a valid value for ls; supported values are '-', '--', '-.', ':', 'None', ' ', '', 'solid', 'dashed', 'dashdot', 'dotted'\")\n  File \"/usr/lib/python3.7/site-packages/matplotlib/pyplot.py\", line 2795, in plot\n    is not None else {}), **kwargs)\n  File \"/usr/lib/python3.7/site-packages/matplotlib/axes/_axes.py\", line 1666, in plot\n    lines = [*self._get_lines(*args, data=data, **kwargs)]\n  File \"/usr/lib/python3.7/site-packages/matplotlib/axes/_base.py\", line 225, in __call__\n    yield from self._plot_args(this, kwargs)\n  File \"/usr/lib/python3.7/site-packages/matplotlib/axes/_base.py\", line 405, in _plot_args\n    seg = func(x[:, j % ncx], y[:, j % ncy], kw, kwargs)\n  File \"/usr/lib/python3.7/site-packages/matplotlib/axes/_base.py\", line 312, in _makeline\n    seg = mlines.Line2D(x, y, **kw)\n  File \"/usr/lib/python3.7/site-packages/matplotlib/lines.py\", line 377, in __init__\n    self.set_linestyle(linestyle)\n  File \"/usr/lib/python3.7/site-packages/matplotlib/lines.py\", line 1185, in set_linestyle\n    cbook._check_in_list([*self._lineStyles, *ls_mapper_r], ls=ls)\n  File \"/usr/lib/python3.7/site-packages/matplotlib/cbook/__init__.py\", line 2164, in _check_in_list\n    .format(v, k, ', '.join(map(repr, values))))\n",
      "",
      "Stacktrace:",
      " [1] pyerr_check at /home/jor/.julia/packages/PyCall/ttONZ/src/exception.jl:60 [inlined]",
      " [2] pyerr_check at /home/jor/.julia/packages/PyCall/ttONZ/src/exception.jl:64 [inlined]",
      " [3] macro expansion at /home/jor/.julia/packages/PyCall/ttONZ/src/exception.jl:84 [inlined]",
      " [4] __pycall!(::PyCall.PyObject, ::Ptr{PyCall.PyObject_struct}, ::PyCall.PyObject, ::PyCall.PyObject) at /home/jor/.julia/packages/PyCall/ttONZ/src/pyfncall.jl:44",
      " [5] _pycall!(::PyCall.PyObject, ::PyCall.PyObject, ::Tuple{StepRangeLen{Float64,Base.TwicePrecision{Float64},Base.TwicePrecision{Float64}},Array{Float64,1}}, ::Int64, ::PyCall.PyObject) at /home/jor/.julia/packages/PyCall/ttONZ/src/pyfncall.jl:29",
      " [6] _pycall!(::PyCall.PyObject, ::PyCall.PyObject, ::Tuple{StepRangeLen{Float64,Base.TwicePrecision{Float64},Base.TwicePrecision{Float64}},Array{Float64,1}}, ::Base.Iterators.Pairs{Symbol,Any,Tuple{Symbol,Symbol,Symbol},NamedTuple{(:color, :linewidth, :linestyle),Tuple{String,Float64,String}}}) at /home/jor/.julia/packages/PyCall/ttONZ/src/pyfncall.jl:11",
      " [7] #pycall#110(::Base.Iterators.Pairs{Symbol,Any,Tuple{Symbol,Symbol,Symbol},NamedTuple{(:color, :linewidth, :linestyle),Tuple{String,Float64,String}}}, ::typeof(PyCall.pycall), ::PyCall.PyObject, ::Type{PyCall.PyAny}, ::StepRangeLen{Float64,Base.TwicePrecision{Float64},Base.TwicePrecision{Float64}}, ::Vararg{Any,N} where N) at /home/jor/.julia/packages/PyCall/ttONZ/src/pyfncall.jl:86",
      " [8] (::getfield(PyCall, Symbol(\"#kw##pycall\")))(::NamedTuple{(:color, :linewidth, :linestyle),Tuple{String,Float64,String}}, ::typeof(PyCall.pycall), ::PyCall.PyObject, ::Type{PyCall.PyAny}, ::StepRangeLen{Float64,Base.TwicePrecision{Float64},Base.TwicePrecision{Float64}}, ::Vararg{Any,N} where N) at ./none:0",
      " [9] #plot#85(::Base.Iterators.Pairs{Symbol,Any,Tuple{Symbol,Symbol,Symbol},NamedTuple{(:color, :linewidth, :linestyle),Tuple{String,Float64,String}}}, ::typeof(plot), ::StepRangeLen{Float64,Base.TwicePrecision{Float64},Base.TwicePrecision{Float64}}, ::Vararg{Any,N} where N) at /home/jor/.julia/packages/PyPlot/cdCMF/src/PyPlot.jl:177",
      " [10] (::getfield(PyPlot, Symbol(\"#kw##plot\")))(::NamedTuple{(:color, :linewidth, :linestyle),Tuple{String,Float64,String}}, ::typeof(plot), ::StepRangeLen{Float64,Base.TwicePrecision{Float64},Base.TwicePrecision{Float64}}, ::Vararg{Any,N} where N) at ./none:0",
      " [11] top-level scope at In[13]:1"
     ]
    }
   ],
   "source": [
    "plot(Nodes,UG, color=\"black\", linewidth=1.5, linestyle=\"--\",marker=\"o\")\n",
    "xlabel(\"x\")\n",
    "ylabel(\"Displacement (m)\")\n",
    "title(\"Displacements.\")\n"
   ]
  },
  {
   "cell_type": "code",
   "execution_count": null,
   "metadata": {},
   "outputs": [],
   "source": []
  },
  {
   "cell_type": "code",
   "execution_count": null,
   "metadata": {},
   "outputs": [],
   "source": [
    "    "
   ]
  },
  {
   "cell_type": "code",
   "execution_count": null,
   "metadata": {},
   "outputs": [],
   "source": []
  }
 ],
 "metadata": {
  "kernelspec": {
   "display_name": "Julia 1.2.0",
   "language": "julia",
   "name": "julia-1.2"
  },
  "language_info": {
   "file_extension": ".jl",
   "mimetype": "application/julia",
   "name": "julia",
   "version": "1.2.0"
  }
 },
 "nbformat": 4,
 "nbformat_minor": 2
}
